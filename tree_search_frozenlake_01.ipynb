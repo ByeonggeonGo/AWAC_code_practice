{
 "cells": [
  {
   "cell_type": "code",
   "execution_count": 25,
   "metadata": {},
   "outputs": [],
   "source": [
    "import gym\n",
    "import matplotlib.pyplot as plt\n",
    "import collections\n",
    "import numpy as np"
   ]
  },
  {
   "cell_type": "code",
   "execution_count": 2,
   "metadata": {},
   "outputs": [],
   "source": [
    "env = gym.make(\"FrozenLake-v1\", is_slippery = True)"
   ]
  },
  {
   "cell_type": "code",
   "execution_count": 3,
   "metadata": {},
   "outputs": [
    {
     "data": {
      "text/plain": [
       "(16, 4)"
      ]
     },
     "execution_count": 3,
     "metadata": {},
     "output_type": "execute_result"
    }
   ],
   "source": [
    "env.observation_space.n, env.action_space.n"
   ]
  },
  {
   "cell_type": "code",
   "execution_count": 4,
   "metadata": {},
   "outputs": [
    {
     "data": {
      "text/plain": [
       "(0, 0.0, False, {'prob': 0.3333333333333333})"
      ]
     },
     "execution_count": 4,
     "metadata": {},
     "output_type": "execute_result"
    }
   ],
   "source": [
    "env.reset()\n",
    "env.step(0)"
   ]
  },
  {
   "cell_type": "code",
   "execution_count": 23,
   "metadata": {},
   "outputs": [
    {
     "data": {
      "text/plain": [
       "(1, 0.0, False, {'prob': 0.3333333333333333})"
      ]
     },
     "execution_count": 23,
     "metadata": {},
     "output_type": "execute_result"
    }
   ],
   "source": [
    "env.step(3) # ns, r, done, info"
   ]
  },
  {
   "cell_type": "markdown",
   "metadata": {},
   "source": [
    "* 알고리즘"
   ]
  },
  {
   "cell_type": "code",
   "execution_count": null,
   "metadata": {},
   "outputs": [],
   "source": [
    "class Q_tree():\n",
    "    def __init__(\n",
    "        self,\n",
    "        y_val: np.array,\n",
    "        x_val: np.array,\n",
    "        max_depth: int = 10,\n",
    "        min_sample_leaf: int = 2\n",
    "    ):\n",
    "        self.y_val = y_val \n",
    "        self.x_val = x_val\n",
    "        self.n = len(y_val)\n",
    "        self.depth = 0\n",
    "        self.max_depth = max_depth\n",
    "        self.min_sample_leaf = min_sample_leaf\n",
    "\n",
    "        def get_mean(self,val_array: np.array):\n",
    "            return np.sum(val_array)/len(val_array)\n",
    "\n",
    "        def get_mse(self,y_val: np.array):\n",
    "            mean = self.get_mean(y_val)\n",
    "            return np.sum((y_val - mean)**2)/len(y_val)\n",
    "\n",
    "        def get_obj_score(self, left_y: np.array, right_y: np.array):\n",
    "            _mse_left = self.get_mse(left_y)\n",
    "            _mse_right = self.get_mse(right_y)\n",
    "            l_len = len(left_y)\n",
    "            r_len = len(right_y)\n",
    "            t_len = l_len + r_len\n",
    "            return (_mse_left * l_len / t_len) + (_mse_right * r_len / t_len)\n",
    "\n",
    "        def get_best_split(self):\n",
    "            _best_mse = None\n",
    "            #_best_feature = None  frozen lake는 feature 1차원이라 고려 x\n",
    "            _best_split_value = None\n",
    "\n",
    "            for i in list(set(self.x_val)):\n",
    "                right_ind = self.x_val > i\n",
    "                right_y = self.y_val[right_ind]\n",
    "                left_y = self.y_val[~right_ind]\n",
    "\n",
    "                if len(right_y) >= self.min_sample_leaf and len(left_y) >= self.min_sample_leaf:\n",
    "                    _mse_w = self.get_obj_score(left_y, right_y)\n",
    "\n",
    "                    if _best_mse is None:\n",
    "                        _best_mse = _mse_w\n",
    "                        _best_split_value = i\n",
    "\n",
    "                    elif _mse_w < _best_mse:\n",
    "                        _best_mse = _mse_w\n",
    "                        _best_split_value = i\n",
    "\n",
    "            self.best_split_value = _best_split_value\n",
    "\n",
    "        \n",
    "        def train(self):\n",
    "            if self.depth < self.max_depth:\n",
    "                self.get_best_split()\n",
    "                right_ind = self.x_val > self.best_split_value\n",
    "\n",
    "                y_r = self.y_val[right_ind]\n",
    "                y_l = self.y_val[~right_ind]\n",
    "\n",
    "                x_r = self.x_val[right_ind]\n",
    "                x_l = self.x_val[~right_ind]\n",
    "\n",
    "                q_tree_l = Q_tree(y_l, x_l)\n",
    "                q_tree_r = Q_tree(y_r, x_r)\n",
    "\n",
    "                q_tree_l.depth += 1\n",
    "                q_tree_r.depth += 1\n",
    "\n",
    "                self.left = q_tree_l\n",
    "                self.right = q_tree_r\n",
    "\n",
    "                self.left.train()\n",
    "                self.right.train()\n",
    "\n",
    "        def predict(self):\n",
    "            # 나머지 완성\n",
    "\n",
    "\n",
    "\n"
   ]
  },
  {
   "cell_type": "code",
   "execution_count": 42,
   "metadata": {},
   "outputs": [
    {
     "data": {
      "text/plain": [
       "array([[False],\n",
       "       [False],\n",
       "       [False],\n",
       "       [ True],\n",
       "       [False],\n",
       "       [ True],\n",
       "       [ True],\n",
       "       [ True],\n",
       "       [ True],\n",
       "       [ True]])"
      ]
     },
     "execution_count": 42,
     "metadata": {},
     "output_type": "execute_result"
    }
   ],
   "source": [
    "np.array([[1],[2],[3],[4],[3],[6],[7],[8],[10],[11],]) > 3"
   ]
  },
  {
   "cell_type": "code",
   "execution_count": 46,
   "metadata": {},
   "outputs": [
    {
     "data": {
      "text/plain": [
       "array([1, 2, 3, 3])"
      ]
     },
     "execution_count": 46,
     "metadata": {},
     "output_type": "execute_result"
    }
   ],
   "source": [
    "ind_t = np.array([[1],[2],[3],[4],[3],[6],[7],[8],[10],[11],]) > 3\n",
    "np.array([[1],[2],[3],[4],[3],[6],[7],[8],[10],[11],])[~ind_t]"
   ]
  },
  {
   "cell_type": "code",
   "execution_count": 37,
   "metadata": {},
   "outputs": [
    {
     "data": {
      "text/plain": [
       "array([2, 5])"
      ]
     },
     "execution_count": 37,
     "metadata": {},
     "output_type": "execute_result"
    }
   ],
   "source": [
    "np.array([[1,2,3],[4,5,6]])[:,1]"
   ]
  },
  {
   "cell_type": "code",
   "execution_count": 40,
   "metadata": {},
   "outputs": [
    {
     "data": {
      "text/plain": [
       "array([1, 2, 3])"
      ]
     },
     "execution_count": 40,
     "metadata": {},
     "output_type": "execute_result"
    }
   ],
   "source": [
    "np.array([[1,2,3],[4,5,6]])[0,:]"
   ]
  },
  {
   "cell_type": "code",
   "execution_count": 32,
   "metadata": {},
   "outputs": [
    {
     "data": {
      "text/plain": [
       "31"
      ]
     },
     "execution_count": 32,
     "metadata": {},
     "output_type": "execute_result"
    }
   ],
   "source": [
    "np.sum((np.array([1,2,3,4,5,6,]) - 2)**2)"
   ]
  },
  {
   "cell_type": "code",
   "execution_count": 35,
   "metadata": {},
   "outputs": [
    {
     "data": {
      "text/plain": [
       "array([1, 2, 3, 4, 5, 6, 1, 2, 3, 4, 5, 6])"
      ]
     },
     "execution_count": 35,
     "metadata": {},
     "output_type": "execute_result"
    }
   ],
   "source": [
    "np.concatenate([np.array([1,2,3,4,5,6,]),np.array([1,2,3,4,5,6,])])"
   ]
  }
 ],
 "metadata": {
  "kernelspec": {
   "display_name": "Python 3.9.12 ('tensorgpu')",
   "language": "python",
   "name": "python3"
  },
  "language_info": {
   "codemirror_mode": {
    "name": "ipython",
    "version": 3
   },
   "file_extension": ".py",
   "mimetype": "text/x-python",
   "name": "python",
   "nbconvert_exporter": "python",
   "pygments_lexer": "ipython3",
   "version": "3.9.12"
  },
  "orig_nbformat": 4,
  "vscode": {
   "interpreter": {
    "hash": "9dbd0661efe0f11090e6a2f3380df4250eae22ee9f745c0bf386b560a52b0e7b"
   }
  }
 },
 "nbformat": 4,
 "nbformat_minor": 2
}
