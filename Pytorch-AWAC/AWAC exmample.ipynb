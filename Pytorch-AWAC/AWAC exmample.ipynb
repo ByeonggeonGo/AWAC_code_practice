{
 "cells": [
  {
   "cell_type": "code",
   "execution_count": 1,
   "metadata": {},
   "outputs": [],
   "source": [
    "import gym\n",
    "import torch\n",
    "\n",
    "from src.Learner.AWAC import AWAC\n",
    "from src.Learner.DQN import DQN\n",
    "from src.Learner.Random import DiscreteRandomAgent\n",
    "from src.nn.MLP import MLP\n",
    "from src.utils.memory import ReplayMemory\n",
    "from src.utils.train_utils import prepare_training_inputs\n",
    "\n",
    "import matplotlib.pyplot as plt"
   ]
  },
  {
   "cell_type": "code",
   "execution_count": 2,
   "metadata": {},
   "outputs": [],
   "source": [
    "gamma = 0.9\n",
    "memory_size = 500000"
   ]
  },
  {
   "cell_type": "code",
   "execution_count": 3,
   "metadata": {},
   "outputs": [],
   "source": [
    "qnet = MLP(4, 2, \n",
    "           num_neurons=[128,128], \n",
    "           out_act='ReLU')\n",
    "qnet_target = MLP(4, 2, \n",
    "                  num_neurons=[128,128], \n",
    "                  out_act='ReLU')\n",
    "pi = MLP(4, 2, num_neurons=[128,64])\n",
    "use_adv = True\n",
    "\n",
    "agent = AWAC(critic=qnet, \n",
    "             critic_target=qnet_target,\n",
    "             actor=pi, \n",
    "             gamma=gamma, \n",
    "             lam=1.0, \n",
    "             num_action_samples=10,\n",
    "             use_adv=use_adv)"
   ]
  },
  {
   "cell_type": "code",
   "execution_count": 72,
   "metadata": {},
   "outputs": [],
   "source": [
    "env = gym.make('CartPole-v1')\n",
    "memory = ReplayMemory(memory_size)"
   ]
  },
  {
   "cell_type": "markdown",
   "metadata": {},
   "source": [
    "## Prepare offline data"
   ]
  },
  {
   "cell_type": "code",
   "execution_count": 73,
   "metadata": {},
   "outputs": [],
   "source": [
    "use_expert = True\n",
    "if use_expert:    \n",
    "    qnet = MLP(4, 2, num_neurons=[128])\n",
    "    qnet_target = MLP(4, 2, num_neurons=[128])\n",
    "    dqn = DQN(4, 1, qnet=qnet,qnet_target=qnet_target, lr=1e-4, gamma=gamma, epsilon=1.0)\n",
    "    state_dict = torch.load('dqn_agent.pt')\n",
    "    \n",
    "    # make trained agent slightly dumb\n",
    "    # to simulate the realistic scenario where we don't have 'perfect' policy\n",
    "    # but good enough policy.\n",
    "    \n",
    "    state_dict['epsilon'] = dqn.epsilon * .4 \n",
    "    dqn.load_state_dict(state_dict)    \n",
    "    offline_agent = dqn\n",
    "    offline_budget = 50\n",
    "else:\n",
    "    offline_agent = DiscreteRandomAgent(2)\n",
    "    offline_budget = 300\n",
    "\n",
    "online_budget = offline_budget"
   ]
  },
  {
   "cell_type": "code",
   "execution_count": 74,
   "metadata": {},
   "outputs": [],
   "source": [
    "cum_rs = []\n",
    "for n_epi in range(offline_budget):\n",
    "    s = env.reset()\n",
    "    cum_r = 0\n",
    "\n",
    "    while True:\n",
    "        s = torch.tensor((s,), dtype=torch.float)\n",
    "        a = offline_agent.get_action(s)\n",
    "        ns, r, done, info = env.step(a)\n",
    "\n",
    "        experience = (s,\n",
    "                      torch.tensor(a).view(1, 1),\n",
    "                      torch.tensor(r).view(1, 1),\n",
    "                      torch.tensor(ns).view(1, 4),\n",
    "                      torch.tensor(done).view(1, 1))\n",
    "        memory.push(experience)\n",
    "\n",
    "        s = ns\n",
    "        cum_r += 1\n",
    "        if done:\n",
    "            cum_rs.append(cum_r)\n",
    "            break"
   ]
  },
  {
   "cell_type": "code",
   "execution_count": 75,
   "metadata": {},
   "outputs": [
    {
     "data": {
      "text/plain": [
       "(array([0.01954023, 0.01494253, 0.01034483, 0.00344828, 0.0045977 ,\n",
       "        0.        , 0.00114943, 0.00114943, 0.        , 0.00229885]),\n",
       " array([ 12. ,  29.4,  46.8,  64.2,  81.6,  99. , 116.4, 133.8, 151.2,\n",
       "        168.6, 186. ]),\n",
       " <BarContainer object of 10 artists>)"
      ]
     },
     "execution_count": 75,
     "metadata": {},
     "output_type": "execute_result"
    },
    {
     "data": {
      "image/png": "[encoded data removed]",
      "text/plain": [
       "<Figure size 432x288 with 1 Axes>"
      ]
     },
     "metadata": {
      "needs_background": "light"
     },
     "output_type": "display_data"
    }
   ],
   "source": [
    "plt.hist(cum_rs, density=True, label='expert')"
   ]
  },
  {
   "cell_type": "markdown",
   "metadata": {},
   "source": [
    "## AWAC offline train + online off-policy train"
   ]
  },
  {
   "cell_type": "markdown",
   "metadata": {},
   "source": [
    "* offline training"
   ]
  },
  {
   "cell_type": "code",
   "execution_count": 8,
   "metadata": {},
   "outputs": [
    {
     "name": "stdout",
     "output_type": "stream",
     "text": [
      "fitting [0] / [8000]\n",
      "fitting [1000] / [8000]\n",
      "fitting [2000] / [8000]\n",
      "fitting [3000] / [8000]\n",
      "fitting [4000] / [8000]\n",
      "fitting [5000] / [8000]\n",
      "fitting [6000] / [8000]\n",
      "fitting [7000] / [8000]\n",
      "Wall time: 1min 30s\n"
     ]
    },
    {
     "data": {
      "text/plain": [
       "AWAC(\n",
       "  (critic): MLP(\n",
       "    (hidden_act): ReLU()\n",
       "    (out_act): ReLU()\n",
       "    (layers): ModuleList(\n",
       "      (0): Linear(in_features=4, out_features=128, bias=True)\n",
       "      (1): ReLU()\n",
       "      (2): Linear(in_features=128, out_features=128, bias=True)\n",
       "      (3): ReLU()\n",
       "      (4): Linear(in_features=128, out_features=2, bias=True)\n",
       "      (5): ReLU()\n",
       "    )\n",
       "  )\n",
       "  (critic_target): MLP(\n",
       "    (hidden_act): ReLU()\n",
       "    (out_act): ReLU()\n",
       "    (layers): ModuleList(\n",
       "      (0): Linear(in_features=4, out_features=128, bias=True)\n",
       "      (1): ReLU()\n",
       "      (2): Linear(in_features=128, out_features=128, bias=True)\n",
       "      (3): ReLU()\n",
       "      (4): Linear(in_features=128, out_features=2, bias=True)\n",
       "      (5): ReLU()\n",
       "    )\n",
       "  )\n",
       "  (actor): MLP(\n",
       "    (hidden_act): ReLU()\n",
       "    (out_act): Identity()\n",
       "    (layers): ModuleList(\n",
       "      (0): Linear(in_features=4, out_features=128, bias=True)\n",
       "      (1): ReLU()\n",
       "      (2): Linear(in_features=128, out_features=64, bias=True)\n",
       "      (3): ReLU()\n",
       "      (4): Linear(in_features=64, out_features=2, bias=True)\n",
       "      (5): Identity()\n",
       "    )\n",
       "  )\n",
       ")"
      ]
     },
     "execution_count": 8,
     "metadata": {},
     "output_type": "execute_result"
    }
   ],
   "source": [
    "%%time\n",
    "batch_size = 1024\n",
    "n_updates = 8000\n",
    "fit_device = 'cuda' if torch.cuda.is_available() else 'cpu'\n",
    "\n",
    "agent.to(fit_device)\n",
    "critic_losses, actor_losses = [], []\n",
    "for i in range(n_updates):\n",
    "    if i % 1000 == 0:\n",
    "        print(\"fitting [{}] / [{}]\".format(i, n_updates))\n",
    "    sampled_exps = memory.sample(batch_size)\n",
    "    s, a, r, ns, done = prepare_training_inputs(sampled_exps, \n",
    "                                                device=fit_device)    \n",
    "    critic_loss = agent.update_critic(s,a,r,ns,done)\n",
    "    actor_loss = agent.update_actor(s,a)\n",
    "    critic_losses.append(critic_loss.detach())\n",
    "    actor_losses.append(actor_loss.detach())        \n",
    "agent.to('cpu')"
   ]
  },
  {
   "cell_type": "code",
   "execution_count": 9,
   "metadata": {},
   "outputs": [
    {
     "data": {
      "image/png": "[encoded data removed]",
      "text/plain": [
       "<Figure size 432x216 with 2 Axes>"
      ]
     },
     "metadata": {
      "needs_background": "light"
     },
     "output_type": "display_data"
    }
   ],
   "source": [
    "fig, axes = plt.subplots(1,2, figsize=(6,3))\n",
    "axes[0].plot(actor_losses, label='actor loss')\n",
    "axes[0].legend()\n",
    "axes[1].plot(critic_losses, label='critic loss')\n",
    "axes[1].legend()\n",
    "fig.tight_layout()"
   ]
  },
  {
   "cell_type": "markdown",
   "metadata": {},
   "source": [
    "* check offline perf"
   ]
  },
  {
   "cell_type": "code",
   "execution_count": 10,
   "metadata": {},
   "outputs": [
    {
     "name": "stdout",
     "output_type": "stream",
     "text": [
      "Wall time: 21.5 s\n"
     ]
    }
   ],
   "source": [
    "%%time\n",
    "num_runs = 1000\n",
    "awac_cum_rs = []\n",
    "for n_epi in range(num_runs):\n",
    "    s = env.reset()\n",
    "    cum_r = 0\n",
    "\n",
    "    #어떠한 성능 기준치 이상일경우 카운트되도록\n",
    "    while True:\n",
    "        s = torch.tensor((s,), dtype=torch.float)\n",
    "        a = int(agent.get_action(s).squeeze())\n",
    "        ns, r, done, info = env.step(a)\n",
    "\n",
    "        s = ns\n",
    "        cum_r += 1\n",
    "        if done:\n",
    "            awac_cum_rs.append(cum_r)\n",
    "            break"
   ]
  },
  {
   "cell_type": "code",
   "execution_count": 11,
   "metadata": {},
   "outputs": [
    {
     "data": {
      "text/plain": [
       "<matplotlib.legend.Legend at 0x298831ddac8>"
      ]
     },
     "execution_count": 11,
     "metadata": {},
     "output_type": "execute_result"
    },
    {
     "data": {
      "image/png": "[encoded data removed]",
      "text/plain": [
       "<Figure size 432x288 with 1 Axes>"
      ]
     },
     "metadata": {
      "needs_background": "light"
     },
     "output_type": "display_data"
    }
   ],
   "source": [
    "plt.hist(cum_rs, density=True, label='expert')\n",
    "plt.hist(awac_cum_rs, \n",
    "         alpha=0.5, \n",
    "         density=True, label='offline')\n",
    "plt.legend()"
   ]
  },
  {
   "cell_type": "markdown",
   "metadata": {},
   "source": [
    "* Online fine tuning\n",
    "* 데이터를 replay memory에 추가해가며 off-policy 방식으로 트레이닝"
   ]
  },
  {
   "cell_type": "code",
   "execution_count": 12,
   "metadata": {},
   "outputs": [
    {
     "data": {
      "text/plain": [
       "AWAC(\n",
       "  (critic): MLP(\n",
       "    (hidden_act): ReLU()\n",
       "    (out_act): ReLU()\n",
       "    (layers): ModuleList(\n",
       "      (0): Linear(in_features=4, out_features=128, bias=True)\n",
       "      (1): ReLU()\n",
       "      (2): Linear(in_features=128, out_features=128, bias=True)\n",
       "      (3): ReLU()\n",
       "      (4): Linear(in_features=128, out_features=2, bias=True)\n",
       "      (5): ReLU()\n",
       "    )\n",
       "  )\n",
       "  (critic_target): MLP(\n",
       "    (hidden_act): ReLU()\n",
       "    (out_act): ReLU()\n",
       "    (layers): ModuleList(\n",
       "      (0): Linear(in_features=4, out_features=128, bias=True)\n",
       "      (1): ReLU()\n",
       "      (2): Linear(in_features=128, out_features=128, bias=True)\n",
       "      (3): ReLU()\n",
       "      (4): Linear(in_features=128, out_features=2, bias=True)\n",
       "      (5): ReLU()\n",
       "    )\n",
       "  )\n",
       "  (actor): MLP(\n",
       "    (hidden_act): ReLU()\n",
       "    (out_act): Identity()\n",
       "    (layers): ModuleList(\n",
       "      (0): Linear(in_features=4, out_features=128, bias=True)\n",
       "      (1): ReLU()\n",
       "      (2): Linear(in_features=128, out_features=64, bias=True)\n",
       "      (3): ReLU()\n",
       "      (4): Linear(in_features=64, out_features=2, bias=True)\n",
       "      (5): Identity()\n",
       "    )\n",
       "  )\n",
       ")"
      ]
     },
     "execution_count": 12,
     "metadata": {},
     "output_type": "execute_result"
    }
   ],
   "source": [
    "agent.to('cpu')"
   ]
  },
  {
   "cell_type": "code",
   "execution_count": 13,
   "metadata": {},
   "outputs": [],
   "source": [
    "# false로 설정하여 메모리에 계속 추가됨\n",
    "refresh_memory = False\n",
    "if refresh_memory:\n",
    "    memory.reset()"
   ]
  },
  {
   "cell_type": "code",
   "execution_count": 14,
   "metadata": {},
   "outputs": [
    {
     "name": "stdout",
     "output_type": "stream",
     "text": [
      "Wall time: 50 s\n"
     ]
    }
   ],
   "source": [
    "%%time\n",
    "# 메모리에 online data 수집하는 과정\n",
    "online_budget = 600\n",
    "online_awac_cum_rs = []\n",
    "for n_epi in range(online_budget):\n",
    "    s = env.reset()\n",
    "    cum_r = 0\n",
    "\n",
    "    while True:\n",
    "        s = torch.tensor((s,), dtype=torch.float)\n",
    "        a = int(agent.get_action(s).squeeze())\n",
    "        ns, r, done, info = env.step(a)\n",
    "        \n",
    "        experience = (s,\n",
    "                      torch.tensor(a).view(1, 1),\n",
    "                      torch.tensor(r).view(1, 1),\n",
    "                      torch.tensor(ns).view(1, 4),\n",
    "                      torch.tensor(done).view(1, 1))\n",
    "        memory.push(experience)\n",
    "        \n",
    "        s = ns\n",
    "        cum_r += 1\n",
    "        if done:\n",
    "            online_awac_cum_rs.append(cum_r)\n",
    "            break\n",
    "    \n",
    "    # 데이터를 수집한 후 모델 업데이트\n",
    "    if len(memory) >= batch_size:\n",
    "        #전체데이터를 사용하는 것이 아니라 샘플링을 통해 사용(offline data도 포함되어 있는 상태)\n",
    "        sampled_exps = memory.sample(batch_size)\n",
    "        _s, _a, _r, _ns, _done = prepare_training_inputs(sampled_exps, device=fit_device)\n",
    "        agent.to(fit_device)\n",
    "        critic_loss = agent.update_critic(_s,_a,_r,_ns,_done)\n",
    "        actor_loss = agent.update_actor(_s,_a)\n",
    "        critic_losses.append(critic_loss.detach())\n",
    "        actor_losses.append(actor_loss.detach())\n",
    "        agent.to('cpu')"
   ]
  },
  {
   "cell_type": "code",
   "execution_count": 15,
   "metadata": {},
   "outputs": [
    {
     "data": {
      "text/plain": [
       "[<matplotlib.lines.Line2D at 0x29884566788>]"
      ]
     },
     "execution_count": 15,
     "metadata": {},
     "output_type": "execute_result"
    },
    {
     "data": {
      "image/png": "[encoded data removed]",
      "text/plain": [
       "<Figure size 432x288 with 1 Axes>"
      ]
     },
     "metadata": {
      "needs_background": "light"
     },
     "output_type": "display_data"
    }
   ],
   "source": [
    "plt.plot(range(len(awac_cum_rs)), awac_cum_rs)\n",
    "plt.plot(range(len(awac_cum_rs), \n",
    "               len(awac_cum_rs + online_awac_cum_rs)), \n",
    "         online_awac_cum_rs)"
   ]
  },
  {
   "cell_type": "code",
   "execution_count": 16,
   "metadata": {},
   "outputs": [
    {
     "data": {
      "text/plain": [
       "<matplotlib.legend.Legend at 0x298831dd908>"
      ]
     },
     "execution_count": 16,
     "metadata": {},
     "output_type": "execute_result"
    },
    {
     "data": {
      "image/png": "[encoded data removed]",
      "text/plain": [
       "<Figure size 432x288 with 1 Axes>"
      ]
     },
     "metadata": {
      "needs_background": "light"
     },
     "output_type": "display_data"
    }
   ],
   "source": [
    "# 성능은 좋음\n",
    "plt.hist(cum_rs, density=True, label='expert')\n",
    "plt.hist(awac_cum_rs, alpha=0.5, density=True, label='offline')\n",
    "plt.hist(online_awac_cum_rs, alpha=0.5, density=True, label='online-finetuning')\n",
    "plt.legend()"
   ]
  },
  {
   "cell_type": "markdown",
   "metadata": {},
   "source": [
    "## DQN _ offline train + online finetune"
   ]
  },
  {
   "cell_type": "markdown",
   "metadata": {},
   "source": [
    "* offline training"
   ]
  },
  {
   "cell_type": "code",
   "execution_count": 109,
   "metadata": {},
   "outputs": [],
   "source": [
    "# qnet = MLP(4, 2, \n",
    "#            num_neurons=[128,128], \n",
    "#            out_act='ReLU')\n",
    "# state =4차원 action 2차원\n",
    "qnet = MLP(4, 2, num_neurons=[128,128],out_act='ReLU')\n",
    "qnet_target = MLP(4, 2, num_neurons=[128,128],out_act='ReLU')\n",
    "\n",
    "#오프라인데이터셋에 대해 탐색한 explore을 저장하지는 않기때문에 0으로 설정하고 online tuning할때 올려서 epslilon 설정\n",
    "epsilon = float(0.0)\n",
    "gamma = 0.9\n",
    "lr = 0.001\n",
    "action_dim = 1\n",
    "\n",
    "# q_net target을 어찌설정할지 모르겠음\n",
    "new_dqn_agent = DQN(state_dim=qnet,action_dim=action_dim,qnet=qnet,qnet_target=qnet_target,lr=lr,epsilon=epsilon,gamma=gamma,)"
   ]
  },
  {
   "cell_type": "code",
   "execution_count": 110,
   "metadata": {},
   "outputs": [
    {
     "name": "stdout",
     "output_type": "stream",
     "text": [
      "fitting [0] / [1000]\n",
      "Wall time: 9.26 s\n"
     ]
    },
    {
     "data": {
      "text/plain": [
       "DQN(\n",
       "  (state_dim): MLP(\n",
       "    (hidden_act): ReLU()\n",
       "    (out_act): ReLU()\n",
       "    (layers): ModuleList(\n",
       "      (0): Linear(in_features=4, out_features=128, bias=True)\n",
       "      (1): ReLU()\n",
       "      (2): Linear(in_features=128, out_features=128, bias=True)\n",
       "      (3): ReLU()\n",
       "      (4): Linear(in_features=128, out_features=2, bias=True)\n",
       "      (5): ReLU()\n",
       "    )\n",
       "  )\n",
       "  (qnet): MLP(\n",
       "    (hidden_act): ReLU()\n",
       "    (out_act): ReLU()\n",
       "    (layers): ModuleList(\n",
       "      (0): Linear(in_features=4, out_features=128, bias=True)\n",
       "      (1): ReLU()\n",
       "      (2): Linear(in_features=128, out_features=128, bias=True)\n",
       "      (3): ReLU()\n",
       "      (4): Linear(in_features=128, out_features=2, bias=True)\n",
       "      (5): ReLU()\n",
       "    )\n",
       "  )\n",
       "  (qnet_target): MLP(\n",
       "    (hidden_act): ReLU()\n",
       "    (out_act): ReLU()\n",
       "    (layers): ModuleList(\n",
       "      (0): Linear(in_features=4, out_features=128, bias=True)\n",
       "      (1): ReLU()\n",
       "      (2): Linear(in_features=128, out_features=128, bias=True)\n",
       "      (3): ReLU()\n",
       "      (4): Linear(in_features=128, out_features=2, bias=True)\n",
       "      (5): ReLU()\n",
       "    )\n",
       "  )\n",
       "  (criteria): SmoothL1Loss()\n",
       ")"
      ]
     },
     "execution_count": 110,
     "metadata": {},
     "output_type": "execute_result"
    }
   ],
   "source": [
    "%%time\n",
    "batch_size = 1024\n",
    "n_updates = 1000\n",
    "fit_device = 'cuda' if torch.cuda.is_available() else 'cpu'\n",
    "\n",
    "new_dqn_agent.to(fit_device)\n",
    "losses = []\n",
    "for i in range(n_updates):\n",
    "    if i % 1000 == 0:\n",
    "        print(\"fitting [{}] / [{}]\".format(i, n_updates))\n",
    "    sampled_exps = memory.sample(batch_size)\n",
    "    s, a, r, ns, done = prepare_training_inputs(sampled_exps, \n",
    "                                                device=fit_device)    \n",
    "    loss = new_dqn_agent.update(s,a,r,ns,done)\n",
    "    losses.append(loss.detach())\n",
    "    \n",
    "    \n",
    "          \n",
    "new_dqn_agent.to('cpu')"
   ]
  },
  {
   "cell_type": "code",
   "execution_count": 111,
   "metadata": {},
   "outputs": [
    {
     "data": {
      "image/png": "[encoded data removed]",
      "text/plain": [
       "<Figure size 432x216 with 2 Axes>"
      ]
     },
     "metadata": {
      "needs_background": "light"
     },
     "output_type": "display_data"
    }
   ],
   "source": [
    "fig, axes = plt.subplots(1,2, figsize=(6,3))\n",
    "axes[0].plot(losses, label='loss')\n",
    "axes[0].legend()\n",
    "fig.tight_layout()"
   ]
  },
  {
   "cell_type": "markdown",
   "metadata": {},
   "source": [
    "* check offline perf"
   ]
  },
  {
   "cell_type": "code",
   "execution_count": 112,
   "metadata": {},
   "outputs": [
    {
     "name": "stdout",
     "output_type": "stream",
     "text": [
      "Wall time: 9.98 s\n"
     ]
    }
   ],
   "source": [
    "%%time\n",
    "num_runs = 500\n",
    "new_dqn_cum_rs = []\n",
    "for n_epi in range(num_runs):\n",
    "    s = env.reset()\n",
    "    cum_r = 0\n",
    "\n",
    "    # 몇초 버텼나\n",
    "    while True:\n",
    "        s = torch.tensor((s,), dtype=torch.float)\n",
    "        # a = int(new_dqn_agent.get_action(s).squeeze())\n",
    "        a = new_dqn_agent.get_action(s)\n",
    "        ns, r, done, info = env.step(a)\n",
    "\n",
    "        s = ns\n",
    "        cum_r += 1\n",
    "        if done:\n",
    "            new_dqn_cum_rs.append(cum_r)\n",
    "            break"
   ]
  },
  {
   "cell_type": "code",
   "execution_count": 113,
   "metadata": {},
   "outputs": [
    {
     "data": {
      "text/plain": [
       "<matplotlib.legend.Legend at 0x2293ae6f608>"
      ]
     },
     "execution_count": 113,
     "metadata": {},
     "output_type": "execute_result"
    },
    {
     "data": {
      "image/png": "[encoded data removed]",
      "text/plain": [
       "<Figure size 432x288 with 1 Axes>"
      ]
     },
     "metadata": {
      "needs_background": "light"
     },
     "output_type": "display_data"
    }
   ],
   "source": [
    "plt.hist(new_dqn_cum_rs, density=True, label='offline')\n",
    "plt.legend()"
   ]
  },
  {
   "cell_type": "markdown",
   "metadata": {},
   "source": [
    "* Online fine tuning\n",
    "* 데이터를 replay memory에 추가해가며 off-policy 방식으로 트레이닝"
   ]
  },
  {
   "cell_type": "code",
   "execution_count": 114,
   "metadata": {},
   "outputs": [
    {
     "data": {
      "text/plain": [
       "DQN(\n",
       "  (state_dim): MLP(\n",
       "    (hidden_act): ReLU()\n",
       "    (out_act): ReLU()\n",
       "    (layers): ModuleList(\n",
       "      (0): Linear(in_features=4, out_features=128, bias=True)\n",
       "      (1): ReLU()\n",
       "      (2): Linear(in_features=128, out_features=128, bias=True)\n",
       "      (3): ReLU()\n",
       "      (4): Linear(in_features=128, out_features=2, bias=True)\n",
       "      (5): ReLU()\n",
       "    )\n",
       "  )\n",
       "  (qnet): MLP(\n",
       "    (hidden_act): ReLU()\n",
       "    (out_act): ReLU()\n",
       "    (layers): ModuleList(\n",
       "      (0): Linear(in_features=4, out_features=128, bias=True)\n",
       "      (1): ReLU()\n",
       "      (2): Linear(in_features=128, out_features=128, bias=True)\n",
       "      (3): ReLU()\n",
       "      (4): Linear(in_features=128, out_features=2, bias=True)\n",
       "      (5): ReLU()\n",
       "    )\n",
       "  )\n",
       "  (qnet_target): MLP(\n",
       "    (hidden_act): ReLU()\n",
       "    (out_act): ReLU()\n",
       "    (layers): ModuleList(\n",
       "      (0): Linear(in_features=4, out_features=128, bias=True)\n",
       "      (1): ReLU()\n",
       "      (2): Linear(in_features=128, out_features=128, bias=True)\n",
       "      (3): ReLU()\n",
       "      (4): Linear(in_features=128, out_features=2, bias=True)\n",
       "      (5): ReLU()\n",
       "    )\n",
       "  )\n",
       "  (criteria): SmoothL1Loss()\n",
       ")"
      ]
     },
     "execution_count": 114,
     "metadata": {},
     "output_type": "execute_result"
    }
   ],
   "source": [
    "new_dqn_agent.to('cpu')"
   ]
  },
  {
   "cell_type": "code",
   "execution_count": 115,
   "metadata": {},
   "outputs": [],
   "source": [
    "# false로 설정하여 메모리에 계속 추가됨\n",
    "refresh_memory = False\n",
    "if refresh_memory:\n",
    "    memory.reset()"
   ]
  },
  {
   "cell_type": "code",
   "execution_count": 116,
   "metadata": {},
   "outputs": [
    {
     "name": "stdout",
     "output_type": "stream",
     "text": [
      "Wall time: 1min 6s\n"
     ]
    }
   ],
   "source": [
    "%%time\n",
    "# 메모리에 online data 수집하는 과정\n",
    "online_budget = 2000\n",
    "online_dqn_cum_rs = []\n",
    "new_dqn_agent.epsilon = new_dqn_agent.epsilon+0.8\n",
    "for n_epi in range(online_budget):\n",
    "    s = env.reset()\n",
    "    cum_r = 0\n",
    "\n",
    "    while True:\n",
    "        s = torch.tensor((s,), dtype=torch.float)\n",
    "        a = new_dqn_agent.get_action(s)\n",
    "        ns, r, done, info = env.step(a)\n",
    "        \n",
    "        experience = (s,\n",
    "                      torch.tensor(a).view(1, 1),\n",
    "                      torch.tensor(r).view(1, 1),\n",
    "                      torch.tensor(ns).view(1, 4),\n",
    "                      torch.tensor(done).view(1, 1))\n",
    "        memory.push(experience)\n",
    "        \n",
    "        s = ns\n",
    "        cum_r += 1\n",
    "        if done:\n",
    "            online_dqn_cum_rs.append(cum_r)\n",
    "            break\n",
    "    \n",
    "    # 데이터를 수집한 후 모델 업데이트\n",
    "    if len(memory) >= batch_size:\n",
    "        #전체데이터를 사용하는 것이 아니라 샘플링을 통해 사용(offline data도 포함되어 있는 상태)\n",
    "        sampled_exps = memory.sample(batch_size)\n",
    "        _s, _a, _r, _ns, _done = prepare_training_inputs(sampled_exps, device=fit_device)\n",
    "        new_dqn_agent.to(fit_device)\n",
    "        loss = new_dqn_agent.update(_s,_a,_r,_ns,_done)\n",
    "        \n",
    "        losses.append(loss.detach())\n",
    "        \n",
    "        new_dqn_agent.to('cpu')\n",
    "        # ep 점점 감소하는 방식\n",
    "        new_dqn_agent.epsilon = new_dqn_agent.epsilon*(online_budget-n_epi)/online_budget"
   ]
  },
  {
   "cell_type": "code",
   "execution_count": 117,
   "metadata": {},
   "outputs": [
    {
     "data": {
      "text/plain": [
       "[<matplotlib.lines.Line2D at 0x229318055c8>]"
      ]
     },
     "execution_count": 117,
     "metadata": {},
     "output_type": "execute_result"
    },
    {
     "data": {
      "image/png": "[encoded data removed]",
      "text/plain": [
       "<Figure size 432x288 with 1 Axes>"
      ]
     },
     "metadata": {
      "needs_background": "light"
     },
     "output_type": "display_data"
    }
   ],
   "source": [
    "plt.plot(range(len(new_dqn_cum_rs)), new_dqn_cum_rs)\n",
    "plt.plot(range(len(new_dqn_cum_rs), \n",
    "               len(new_dqn_cum_rs + online_dqn_cum_rs)), \n",
    "         online_dqn_cum_rs)"
   ]
  },
  {
   "cell_type": "code",
   "execution_count": 118,
   "metadata": {},
   "outputs": [
    {
     "data": {
      "text/plain": [
       "<matplotlib.legend.Legend at 0x229365d9c88>"
      ]
     },
     "execution_count": 118,
     "metadata": {},
     "output_type": "execute_result"
    },
    {
     "data": {
      "image/png": "[encoded data removed]",
      "text/plain": [
       "<Figure size 432x288 with 1 Axes>"
      ]
     },
     "metadata": {
      "needs_background": "light"
     },
     "output_type": "display_data"
    }
   ],
   "source": [
    "plt.hist(cum_rs, density=True, label='expert')\n",
    "plt.hist(new_dqn_cum_rs, alpha=0.5, density=True, label='offline')\n",
    "plt.hist(online_dqn_cum_rs, alpha=0.5, density=True, label='online-finetuning')\n",
    "plt.legend()"
   ]
  },
  {
   "cell_type": "code",
   "execution_count": 119,
   "metadata": {},
   "outputs": [
    {
     "data": {
      "text/plain": [
       "<matplotlib.legend.Legend at 0x22954ebda88>"
      ]
     },
     "execution_count": 119,
     "metadata": {},
     "output_type": "execute_result"
    },
    {
     "data": {
      "image/png": "[encoded data removed]",
      "text/plain": [
       "<Figure size 432x288 with 1 Axes>"
      ]
     },
     "metadata": {
      "needs_background": "light"
     },
     "output_type": "display_data"
    }
   ],
   "source": [
    "plt.hist(online_dqn_cum_rs, density=True, label='online-finetuning')\n",
    "plt.legend()"
   ]
  },
  {
   "cell_type": "code",
   "execution_count": 120,
   "metadata": {},
   "outputs": [
    {
     "data": {
      "text/plain": [
       "<matplotlib.legend.Legend at 0x2293e36e8c8>"
      ]
     },
     "execution_count": 120,
     "metadata": {},
     "output_type": "execute_result"
    },
    {
     "data": {
      "image/png": "[encoded data removed]",
      "text/plain": [
       "<Figure size 432x288 with 1 Axes>"
      ]
     },
     "metadata": {
      "needs_background": "light"
     },
     "output_type": "display_data"
    }
   ],
   "source": [
    "plt.hist(new_dqn_cum_rs,  density=True, label='offline')\n",
    "plt.legend()"
   ]
  },
  {
   "cell_type": "code",
   "execution_count": 121,
   "metadata": {},
   "outputs": [
    {
     "data": {
      "text/plain": [
       "<matplotlib.legend.Legend at 0x22956044f88>"
      ]
     },
     "execution_count": 121,
     "metadata": {},
     "output_type": "execute_result"
    },
    {
     "data": {
      "image/png": "[encoded data removed]",
      "text/plain": [
       "<Figure size 432x288 with 1 Axes>"
      ]
     },
     "metadata": {
      "needs_background": "light"
     },
     "output_type": "display_data"
    }
   ],
   "source": [
    "plt.hist(cum_rs, density=True, label='expert')\n",
    "plt.legend()"
   ]
  },
  {
   "cell_type": "markdown",
   "metadata": {},
   "source": [
    "## DQN online off-policy train"
   ]
  },
  {
   "cell_type": "code",
   "execution_count": 24,
   "metadata": {},
   "outputs": [],
   "source": [
    "# qnet = MLP(4, 2, \n",
    "#            num_neurons=[128,128], \n",
    "#            out_act='ReLU')\n",
    "# state =4차원 action 2차원\n",
    "memory_size = 500000\n",
    "memory_online_dqn = ReplayMemory(memory_size)\n",
    "qnet = MLP(4, 2, num_neurons=[128,128],out_act='ReLU')\n",
    "qnet_target = MLP(4, 2, num_neurons=[128,128],out_act='ReLU')\n",
    "\n",
    "epsilon = 0.8\n",
    "gamma = 0.9\n",
    "lr = 0.001\n",
    "action_dim = 1\n",
    "\n",
    "# q_net target을 어찌설정할지 모르겠음\n",
    "online_new_dqn_agent = DQN(state_dim=qnet,action_dim=action_dim,qnet=qnet,qnet_target=qnet_target,lr=lr,epsilon=epsilon,gamma=gamma,)"
   ]
  },
  {
   "cell_type": "code",
   "execution_count": 25,
   "metadata": {},
   "outputs": [
    {
     "name": "stdout",
     "output_type": "stream",
     "text": [
      "Wall time: 1 ms\n"
     ]
    },
    {
     "data": {
      "text/plain": [
       "DQN(\n",
       "  (state_dim): MLP(\n",
       "    (hidden_act): ReLU()\n",
       "    (out_act): ReLU()\n",
       "    (layers): ModuleList(\n",
       "      (0): Linear(in_features=4, out_features=128, bias=True)\n",
       "      (1): ReLU()\n",
       "      (2): Linear(in_features=128, out_features=128, bias=True)\n",
       "      (3): ReLU()\n",
       "      (4): Linear(in_features=128, out_features=2, bias=True)\n",
       "      (5): ReLU()\n",
       "    )\n",
       "  )\n",
       "  (qnet): MLP(\n",
       "    (hidden_act): ReLU()\n",
       "    (out_act): ReLU()\n",
       "    (layers): ModuleList(\n",
       "      (0): Linear(in_features=4, out_features=128, bias=True)\n",
       "      (1): ReLU()\n",
       "      (2): Linear(in_features=128, out_features=128, bias=True)\n",
       "      (3): ReLU()\n",
       "      (4): Linear(in_features=128, out_features=2, bias=True)\n",
       "      (5): ReLU()\n",
       "    )\n",
       "  )\n",
       "  (qnet_target): MLP(\n",
       "    (hidden_act): ReLU()\n",
       "    (out_act): ReLU()\n",
       "    (layers): ModuleList(\n",
       "      (0): Linear(in_features=4, out_features=128, bias=True)\n",
       "      (1): ReLU()\n",
       "      (2): Linear(in_features=128, out_features=128, bias=True)\n",
       "      (3): ReLU()\n",
       "      (4): Linear(in_features=128, out_features=2, bias=True)\n",
       "      (5): ReLU()\n",
       "    )\n",
       "  )\n",
       "  (criteria): SmoothL1Loss()\n",
       ")"
      ]
     },
     "execution_count": 25,
     "metadata": {},
     "output_type": "execute_result"
    }
   ],
   "source": [
    "%%time\n",
    "fit_device = 'cuda' if torch.cuda.is_available() else 'cpu'\n",
    "online_new_dqn_agent.to(fit_device)"
   ]
  },
  {
   "cell_type": "code",
   "execution_count": 26,
   "metadata": {},
   "outputs": [],
   "source": [
    "# false로 설정하여 메모리에 계속 추가됨\n",
    "refresh_memory = False\n",
    "if refresh_memory:\n",
    "    memory_online_dqn.reset()"
   ]
  },
  {
   "cell_type": "code",
   "execution_count": 27,
   "metadata": {},
   "outputs": [
    {
     "name": "stdout",
     "output_type": "stream",
     "text": [
      "fitting [1000] / [5000]\n",
      "fitting [2000] / [5000]\n",
      "fitting [3000] / [5000]\n",
      "fitting [4000] / [5000]\n",
      "Wall time: 3min 57s\n"
     ]
    }
   ],
   "source": [
    "%%time\n",
    "# 메모리에 online data 수집하는 과정\n",
    "online_budget = 5000\n",
    "batch_size = 1000\n",
    "online_dqn_cum_rs = []\n",
    "dqn_online_losses = []\n",
    "for n_epi in range(online_budget):\n",
    "    s = env.reset()\n",
    "    cum_r = 0\n",
    "\n",
    "    while True:\n",
    "        s = torch.tensor((s,), dtype=torch.float)\n",
    "        a = online_new_dqn_agent.get_action(s)\n",
    "        ns, r, done, info = env.step(a)\n",
    "        \n",
    "        experience = (s,\n",
    "                      torch.tensor(a).view(1, 1),\n",
    "                      torch.tensor(r).view(1, 1),\n",
    "                      torch.tensor(ns).view(1, 4),\n",
    "                      torch.tensor(done).view(1, 1))\n",
    "        memory_online_dqn.push(experience)\n",
    "        \n",
    "        s = ns\n",
    "        cum_r += 1\n",
    "        if done:\n",
    "            online_dqn_cum_rs.append(cum_r)\n",
    "            break\n",
    "    \n",
    "    # 데이터를 수집한 후 모델 업데이트\n",
    "    if len(memory_online_dqn) >= batch_size:\n",
    "        if n_epi%batch_size ==0:\n",
    "            print(\"fitting [{}] / [{}]\".format(n_epi, online_budget))\n",
    "        #전체데이터를 사용하는 것이 아니라 샘플링을 통해 사용(offline data도 포함되어 있는 상태)\n",
    "        sampled_exps = memory_online_dqn.sample(batch_size)\n",
    "        _s, _a, _r, _ns, _done = prepare_training_inputs(sampled_exps, device=fit_device)\n",
    "        online_new_dqn_agent.to(fit_device)\n",
    "        loss = online_new_dqn_agent.update(_s,_a,_r,_ns,_done)\n",
    "        # ep 점점 감소하는 방식\n",
    "        online_new_dqn_agent.epsilon = online_new_dqn_agent.epsilon*(online_budget-n_epi)/online_budget\n",
    "        dqn_online_losses.append(loss.detach())\n",
    "        \n",
    "        online_new_dqn_agent.to('cpu')"
   ]
  },
  {
   "cell_type": "code",
   "execution_count": 28,
   "metadata": {},
   "outputs": [
    {
     "data": {
      "image/png": "[encoded data removed]",
      "text/plain": [
       "<Figure size 432x216 with 2 Axes>"
      ]
     },
     "metadata": {
      "needs_background": "light"
     },
     "output_type": "display_data"
    }
   ],
   "source": [
    "fig, axes = plt.subplots(1,2, figsize=(6,3))\n",
    "axes[0].plot(dqn_online_losses, label='loss')\n",
    "axes[0].legend()\n",
    "fig.tight_layout()"
   ]
  },
  {
   "cell_type": "code",
   "execution_count": 29,
   "metadata": {},
   "outputs": [],
   "source": [
    "only_online_dqn_cum_rs = []\n",
    "test = 500\n",
    "for n_epi in range(test):\n",
    "    s = env.reset()\n",
    "    cum_r = 0\n",
    "\n",
    "    while True:\n",
    "        s = torch.tensor((s,), dtype=torch.float)\n",
    "        a = online_new_dqn_agent.get_action(s)\n",
    "        ns, r, done, info = env.step(a)\n",
    "\n",
    "        experience = (s,\n",
    "                      torch.tensor(a).view(1, 1),\n",
    "                      torch.tensor(r).view(1, 1),\n",
    "                      torch.tensor(ns).view(1, 4),\n",
    "                      torch.tensor(done).view(1, 1))\n",
    "        memory_online_dqn.push(experience)\n",
    "\n",
    "        s = ns\n",
    "        cum_r += 1\n",
    "        if done:\n",
    "            only_online_dqn_cum_rs.append(cum_r)\n",
    "            break"
   ]
  },
  {
   "cell_type": "code",
   "execution_count": 30,
   "metadata": {},
   "outputs": [
    {
     "data": {
      "text/plain": [
       "(array([0.00282051, 0.00564103, 0.01410256, 0.01897436, 0.02358974,\n",
       "        0.02666667, 0.01897436, 0.00974359, 0.00666667, 0.00102564]),\n",
       " array([288. , 295.8, 303.6, 311.4, 319.2, 327. , 334.8, 342.6, 350.4,\n",
       "        358.2, 366. ]),\n",
       " <BarContainer object of 10 artists>)"
      ]
     },
     "execution_count": 30,
     "metadata": {},
     "output_type": "execute_result"
    },
    {
     "data": {
      "image/png": "[encoded data removed]",
      "text/plain": [
       "<Figure size 432x288 with 1 Axes>"
      ]
     },
     "metadata": {
      "needs_background": "light"
     },
     "output_type": "display_data"
    }
   ],
   "source": [
    "plt.hist(only_online_dqn_cum_rs, density=True, label='only_online_dqn')"
   ]
  },
  {
   "cell_type": "code",
   "execution_count": 31,
   "metadata": {},
   "outputs": [
    {
     "data": {
      "text/plain": [
       "[<matplotlib.lines.Line2D at 0x1886b09c288>]"
      ]
     },
     "execution_count": 31,
     "metadata": {},
     "output_type": "execute_result"
    },
    {
     "data": {
      "image/png": "[encoded data removed]",
      "text/plain": [
       "<Figure size 432x288 with 1 Axes>"
      ]
     },
     "metadata": {
      "needs_background": "light"
     },
     "output_type": "display_data"
    }
   ],
   "source": [
    "plt.plot(range(len(only_online_dqn_cum_rs)), only_online_dqn_cum_rs)"
   ]
  },
  {
   "cell_type": "markdown",
   "metadata": {},
   "source": [
    "## awac only online train"
   ]
  },
  {
   "cell_type": "code",
   "execution_count": 2,
   "metadata": {},
   "outputs": [],
   "source": [
    "gamma = 0.9\n",
    "memory_size = 500000"
   ]
  },
  {
   "cell_type": "code",
   "execution_count": 3,
   "metadata": {},
   "outputs": [],
   "source": [
    "qnet = MLP(4, 2, \n",
    "           num_neurons=[128,128], \n",
    "           out_act='ReLU')\n",
    "qnet_target = MLP(4, 2, \n",
    "                  num_neurons=[128,128], \n",
    "                  out_act='ReLU')\n",
    "pi = MLP(4, 2, num_neurons=[128,64])\n",
    "use_adv = True\n",
    "\n",
    "agent = AWAC(critic=qnet, \n",
    "             critic_target=qnet_target,\n",
    "             actor=pi, \n",
    "             gamma=gamma, \n",
    "             lam=1.0, \n",
    "             num_action_samples=10,\n",
    "             use_adv=use_adv)"
   ]
  },
  {
   "cell_type": "code",
   "execution_count": 4,
   "metadata": {},
   "outputs": [],
   "source": [
    "env = gym.make('CartPole-v1')\n",
    "memory = ReplayMemory(memory_size)"
   ]
  },
  {
   "cell_type": "code",
   "execution_count": 5,
   "metadata": {},
   "outputs": [
    {
     "name": "stdout",
     "output_type": "stream",
     "text": [
      "Wall time: 1 ms\n"
     ]
    },
    {
     "data": {
      "text/plain": [
       "AWAC(\n",
       "  (critic): MLP(\n",
       "    (hidden_act): ReLU()\n",
       "    (out_act): ReLU()\n",
       "    (layers): ModuleList(\n",
       "      (0): Linear(in_features=4, out_features=128, bias=True)\n",
       "      (1): ReLU()\n",
       "      (2): Linear(in_features=128, out_features=128, bias=True)\n",
       "      (3): ReLU()\n",
       "      (4): Linear(in_features=128, out_features=2, bias=True)\n",
       "      (5): ReLU()\n",
       "    )\n",
       "  )\n",
       "  (critic_target): MLP(\n",
       "    (hidden_act): ReLU()\n",
       "    (out_act): ReLU()\n",
       "    (layers): ModuleList(\n",
       "      (0): Linear(in_features=4, out_features=128, bias=True)\n",
       "      (1): ReLU()\n",
       "      (2): Linear(in_features=128, out_features=128, bias=True)\n",
       "      (3): ReLU()\n",
       "      (4): Linear(in_features=128, out_features=2, bias=True)\n",
       "      (5): ReLU()\n",
       "    )\n",
       "  )\n",
       "  (actor): MLP(\n",
       "    (hidden_act): ReLU()\n",
       "    (out_act): Identity()\n",
       "    (layers): ModuleList(\n",
       "      (0): Linear(in_features=4, out_features=128, bias=True)\n",
       "      (1): ReLU()\n",
       "      (2): Linear(in_features=128, out_features=64, bias=True)\n",
       "      (3): ReLU()\n",
       "      (4): Linear(in_features=64, out_features=2, bias=True)\n",
       "      (5): Identity()\n",
       "    )\n",
       "  )\n",
       ")"
      ]
     },
     "execution_count": 5,
     "metadata": {},
     "output_type": "execute_result"
    }
   ],
   "source": [
    "%%time\n",
    "fit_device = 'cuda' if torch.cuda.is_available() else 'cpu'\n",
    "agent.to(fit_device)"
   ]
  },
  {
   "cell_type": "code",
   "execution_count": 6,
   "metadata": {},
   "outputs": [],
   "source": [
    "# false로 설정하여 메모리에 계속 추가됨\n",
    "refresh_memory = False\n",
    "if refresh_memory:\n",
    "    memory_online_dqn.reset()"
   ]
  },
  {
   "cell_type": "code",
   "execution_count": 7,
   "metadata": {},
   "outputs": [
    {
     "name": "stderr",
     "output_type": "stream",
     "text": [
      "C:\\Users\\Go\\miniconda3\\envs\\pro1\\lib\\site-packages\\ipykernel_launcher.py:13: UserWarning: Creating a tensor from a list of numpy.ndarrays is extremely slow. Please consider converting the list to a single numpy.ndarray with numpy.array() before converting to a tensor. (Triggered internally at  ..\\torch\\csrc\\utils\\tensor_new.cpp:201.)\n",
      "  del sys.path[0]\n"
     ]
    },
    {
     "name": "stdout",
     "output_type": "stream",
     "text": [
      "fitting [1000] / [5000]\n",
      "fitting [2000] / [5000]\n",
      "fitting [3000] / [5000]\n",
      "fitting [4000] / [5000]\n",
      "Wall time: 3min 22s\n"
     ]
    }
   ],
   "source": [
    "%%time\n",
    "# 메모리에 online data 수집하는 과정\n",
    "online_budget = 5000\n",
    "batch_size = 1000\n",
    "online_awac_cum_rs = []\n",
    "\n",
    "online_critic_losses = []\n",
    "online_actor_losses = []\n",
    "for n_epi in range(online_budget):\n",
    "    s = env.reset()\n",
    "    cum_r = 0\n",
    "\n",
    "    while True:\n",
    "        s = torch.tensor((s,), dtype=torch.float)\n",
    "        a = int(agent.get_action(s).squeeze())\n",
    "        ns, r, done, info = env.step(a)\n",
    "        \n",
    "        experience = (s,\n",
    "                      torch.tensor(a).view(1, 1),\n",
    "                      torch.tensor(r).view(1, 1),\n",
    "                      torch.tensor(ns).view(1, 4),\n",
    "                      torch.tensor(done).view(1, 1))\n",
    "        memory.push(experience)\n",
    "        \n",
    "        s = ns\n",
    "        cum_r += 1\n",
    "        if done:\n",
    "            online_awac_cum_rs.append(cum_r)\n",
    "            break\n",
    "    \n",
    "    # 데이터를 수집한 후 모델 업데이트\n",
    "    if len(memory) >= batch_size:\n",
    "        if n_epi%batch_size ==0:\n",
    "            print(\"fitting [{}] / [{}]\".format(n_epi, online_budget))\n",
    "        \n",
    "        #전체데이터를 사용하는 것이 아니라 샘플링을 통해 사용(offline data도 포함되어 있는 상태)\n",
    "        sampled_exps = memory.sample(batch_size)\n",
    "        # s, a, r, ns, done = prepare_training_inputs(sampled_exps,device=fit_device)  \n",
    "\n",
    "        # critic_loss = agent.update_critic(s,a,r,ns,done)\n",
    "        # actor_loss = agent.update_actor(s,a)\n",
    "\n",
    "        _s, _a, _r, _ns, _done = prepare_training_inputs(sampled_exps, device=fit_device)\n",
    "        agent.to(fit_device)\n",
    "        critic_loss = agent.update_critic(_s,_a,_r,_ns,_done)\n",
    "        actor_loss = agent.update_actor(_s,_a)\n",
    "        \n",
    "        online_critic_losses.append(critic_loss.detach())\n",
    "        online_actor_losses.append(actor_loss.detach())   \n",
    "\n",
    "\n",
    "        \n",
    "\n",
    "        agent.to('cpu')"
   ]
  },
  {
   "cell_type": "code",
   "execution_count": 8,
   "metadata": {},
   "outputs": [
    {
     "data": {
      "image/png": "[encoded data removed]",
      "text/plain": [
       "<Figure size 432x216 with 2 Axes>"
      ]
     },
     "metadata": {
      "needs_background": "light"
     },
     "output_type": "display_data"
    }
   ],
   "source": [
    "fig, axes = plt.subplots(1,2, figsize=(6,3))\n",
    "axes[0].plot(online_actor_losses, label='actor loss')\n",
    "axes[0].legend()\n",
    "axes[1].plot(online_critic_losses, label='critic loss')\n",
    "axes[1].legend()\n",
    "fig.tight_layout()"
   ]
  },
  {
   "cell_type": "code",
   "execution_count": 9,
   "metadata": {},
   "outputs": [],
   "source": [
    "only_online_awac_cum_rs = []\n",
    "test = 500\n",
    "for n_epi in range(test):\n",
    "    s = env.reset()\n",
    "    cum_r = 0\n",
    "\n",
    "    while True:\n",
    "        s = torch.tensor((s,), dtype=torch.float)\n",
    "        a = int(agent.get_action(s).squeeze())\n",
    "        ns, r, done, info = env.step(a)\n",
    "\n",
    "        experience = (s,\n",
    "                      torch.tensor(a).view(1, 1),\n",
    "                      torch.tensor(r).view(1, 1),\n",
    "                      torch.tensor(ns).view(1, 4),\n",
    "                      torch.tensor(done).view(1, 1))\n",
    "        memory.push(experience)\n",
    "\n",
    "        s = ns\n",
    "        cum_r += 1\n",
    "        if done:\n",
    "            only_online_awac_cum_rs.append(cum_r)\n",
    "            break"
   ]
  },
  {
   "cell_type": "code",
   "execution_count": 10,
   "metadata": {},
   "outputs": [
    {
     "data": {
      "text/plain": [
       "(array([0.00053608, 0.00065979, 0.00160825, 0.00713402, 0.0062268 ,\n",
       "        0.00296907, 0.00065979, 0.00053608, 0.00016495, 0.00012371]),\n",
       " array([ 15. ,  63.5, 112. , 160.5, 209. , 257.5, 306. , 354.5, 403. ,\n",
       "        451.5, 500. ]),\n",
       " <BarContainer object of 10 artists>)"
      ]
     },
     "execution_count": 10,
     "metadata": {},
     "output_type": "execute_result"
    },
    {
     "data": {
      "image/png": "[encoded data removed]",
      "text/plain": [
       "<Figure size 432x288 with 1 Axes>"
      ]
     },
     "metadata": {
      "needs_background": "light"
     },
     "output_type": "display_data"
    }
   ],
   "source": [
    "plt.hist(only_online_awac_cum_rs, density=True, label='only_online_awac')"
   ]
  },
  {
   "cell_type": "code",
   "execution_count": 11,
   "metadata": {},
   "outputs": [
    {
     "data": {
      "text/plain": [
       "[<matplotlib.lines.Line2D at 0x181e3e80e08>]"
      ]
     },
     "execution_count": 11,
     "metadata": {},
     "output_type": "execute_result"
    },
    {
     "data": {
      "image/png": "[encoded data removed]",
      "text/plain": [
       "<Figure size 432x288 with 1 Axes>"
      ]
     },
     "metadata": {
      "needs_background": "light"
     },
     "output_type": "display_data"
    }
   ],
   "source": [
    "plt.plot(range(len(only_online_awac_cum_rs)), only_online_awac_cum_rs)"
   ]
  },
  {
   "cell_type": "code",
   "execution_count": null,
   "metadata": {},
   "outputs": [],
   "source": []
  }
 ],
 "metadata": {
  "kernelspec": {
   "display_name": "Python 3",
   "language": "python",
   "name": "python3"
  },
  "language_info": {
   "codemirror_mode": {
    "name": "ipython",
    "version": 3
   },
   "file_extension": ".py",
   "mimetype": "text/x-python",
   "name": "python",
   "nbconvert_exporter": "python",
   "pygments_lexer": "ipython3",
   "version": "3.7.11"
  }
 },
 "nbformat": 4,
 "nbformat_minor": 4
}
