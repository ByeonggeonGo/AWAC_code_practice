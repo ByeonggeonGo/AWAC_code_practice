{
 "cells": [
  {
   "cell_type": "code",
   "execution_count": 2,
   "metadata": {},
   "outputs": [],
   "source": [
    "import gym\n",
    "import torch\n",
    "\n",
    "from src.Learner.AWAC import AWAC\n",
    "from src.Learner.DQN import DQN\n",
    "from src.Learner.Random import DiscreteRandomAgent\n",
    "from src.nn.MLP import MLP\n",
    "from src.utils.memory import ReplayMemory\n",
    "from src.utils.train_utils import prepare_training_inputs\n",
    "\n",
    "import matplotlib.pyplot as plt"
   ]
  },
  {
   "cell_type": "code",
   "execution_count": 3,
   "metadata": {},
   "outputs": [
    {
     "name": "stderr",
     "output_type": "stream",
     "text": [
      "C:\\Users\\Go\\miniconda3\\envs\\pro1\\lib\\site-packages\\ipykernel_launcher.py:32: UserWarning: Creating a tensor from a list of numpy.ndarrays is extremely slow. Please consider converting the list to a single numpy.ndarray with numpy.array() before converting to a tensor. (Triggered internally at  ..\\torch\\csrc\\utils\\tensor_new.cpp:201.)\n"
     ]
    },
    {
     "data": {
      "text/plain": [
       "(array([0.01864407, 0.01525424, 0.01186441, 0.01864407, 0.00508475,\n",
       "        0.00677966, 0.        , 0.00338983, 0.00169492, 0.00338983]),\n",
       " array([ 12. ,  23.8,  35.6,  47.4,  59.2,  71. ,  82.8,  94.6, 106.4,\n",
       "        118.2, 130. ]),\n",
       " <BarContainer object of 10 artists>)"
      ]
     },
     "execution_count": 3,
     "metadata": {},
     "output_type": "execute_result"
    },
    {
     "data": {
      "image/png": "[encoded data removed]",
      "text/plain": [
       "<Figure size 432x288 with 1 Axes>"
      ]
     },
     "metadata": {
      "needs_background": "light"
     },
     "output_type": "display_data"
    }
   ],
   "source": [
    "gamma = 0.9\n",
    "memory_size = 500000\n",
    "env = gym.make('CartPole-v1')\n",
    "memory = ReplayMemory(memory_size)\n",
    "\n",
    "use_expert = True\n",
    "if use_expert:    \n",
    "    qnet = MLP(4, 2, num_neurons=[128])\n",
    "    qnet_target = MLP(4, 2, num_neurons=[128])\n",
    "    dqn = DQN(4, 1, qnet=qnet,qnet_target=qnet_target, lr=1e-4, gamma=gamma, epsilon=1.0)\n",
    "    state_dict = torch.load('dqn_agent.pt')\n",
    "    \n",
    "    # make trained agent slightly dumb\n",
    "    # to simulate the realistic scenario where we don't have 'perfect' policy\n",
    "    # but good enough policy.\n",
    "    \n",
    "    state_dict['epsilon'] = dqn.epsilon * .4 \n",
    "    dqn.load_state_dict(state_dict)    \n",
    "    offline_agent = dqn\n",
    "    offline_budget = 50\n",
    "else:\n",
    "    offline_agent = DiscreteRandomAgent(2)\n",
    "    offline_budget = 300\n",
    "\n",
    "online_budget = offline_budget\n",
    "cum_rs = []\n",
    "for n_epi in range(offline_budget):\n",
    "    s = env.reset()\n",
    "    cum_r = 0\n",
    "\n",
    "    while True:\n",
    "        s = torch.tensor((s,), dtype=torch.float)\n",
    "        a = offline_agent.get_action(s)\n",
    "        ns, r, done, info = env.step(a)\n",
    "\n",
    "        experience = (s,\n",
    "                      torch.tensor(a).view(1, 1),\n",
    "                      torch.tensor(r).view(1, 1),\n",
    "                      torch.tensor(ns).view(1, 4),\n",
    "                      torch.tensor(done).view(1, 1))\n",
    "        memory.push(experience)\n",
    "\n",
    "        s = ns\n",
    "        cum_r += 1\n",
    "        if done:\n",
    "            cum_rs.append(cum_r)\n",
    "            break\n",
    "plt.hist(cum_rs, density=True, label='expert')"
   ]
  },
  {
   "cell_type": "code",
   "execution_count": 8,
   "metadata": {},
   "outputs": [
    {
     "name": "stdout",
     "output_type": "stream",
     "text": [
      "fitting [0] / [1000]\n"
     ]
    },
    {
     "data": {
      "text/plain": [
       "<matplotlib.legend.Legend at 0x1d1ffa85848>"
      ]
     },
     "execution_count": 8,
     "metadata": {},
     "output_type": "execute_result"
    },
    {
     "data": {
      "image/png": "[encoded data removed]",
      "text/plain": [
       "<Figure size 432x216 with 2 Axes>"
      ]
     },
     "metadata": {
      "needs_background": "light"
     },
     "output_type": "display_data"
    }
   ],
   "source": [
    "# qnet = MLP(4, 2, \n",
    "#            num_neurons=[128,128], \n",
    "#            out_act='ReLU')\n",
    "# state =4차원 action 2차원\n",
    "qnet = MLP(4, 2, num_neurons=[128,128],out_act='ReLU')\n",
    "qnet_target = MLP(4, 2, num_neurons=[128,128],out_act='ReLU')\n",
    "\n",
    "#오프라인데이터셋에 대해 탐색한 explore을 저장하지는 않기때문에 0으로 설정하고 online tuning할때 올려서 epslilon 설정\n",
    "epsilon = float(0.0)\n",
    "gamma = 0.9\n",
    "lr = 0.001\n",
    "action_dim = 1\n",
    "\n",
    "# q_net target을 어찌설정할지 모르겠음\n",
    "new_dqn_agent = DQN(state_dim=qnet,action_dim=action_dim,qnet=qnet,qnet_target=qnet_target,lr=lr,epsilon=epsilon,gamma=gamma,)\n",
    "\n",
    "batch_size = 1024\n",
    "n_updates = 1000\n",
    "fit_device = 'cuda' if torch.cuda.is_available() else 'cpu'\n",
    "\n",
    "new_dqn_agent.to(fit_device)\n",
    "losses = []\n",
    "for i in range(n_updates):\n",
    "    if i % 1000 == 0:\n",
    "        print(\"fitting [{}] / [{}]\".format(i, n_updates))\n",
    "    sampled_exps = memory.sample(batch_size)\n",
    "    s, a, r, ns, done = prepare_training_inputs(sampled_exps, \n",
    "                                                device=fit_device)    \n",
    "    loss = new_dqn_agent.update(s,a,r,ns,done)\n",
    "    losses.append(loss.detach())\n",
    "    \n",
    "    \n",
    "          \n",
    "new_dqn_agent.to('cpu')\n",
    "fig, axes = plt.subplots(1,2, figsize=(6,3))\n",
    "axes[0].plot(losses, label='loss')\n",
    "axes[0].legend()\n",
    "fig.tight_layout()\n",
    "\n",
    "\n",
    "num_runs = 500\n",
    "new_dqn_cum_rs = []\n",
    "for n_epi in range(num_runs):\n",
    "    s = env.reset()\n",
    "    cum_r = 0\n",
    "\n",
    "    # 몇초 버텼나\n",
    "    while True:\n",
    "        s = torch.tensor((s,), dtype=torch.float)\n",
    "        # a = int(new_dqn_agent.get_action(s).squeeze())\n",
    "        a = new_dqn_agent.get_action(s)\n",
    "        ns, r, done, info = env.step(a)\n",
    "\n",
    "        s = ns\n",
    "        cum_r += 1\n",
    "        if done:\n",
    "            new_dqn_cum_rs.append(cum_r)\n",
    "            break\n",
    "plt.hist(new_dqn_cum_rs, density=True, label='offline')\n",
    "plt.legend()"
   ]
  },
  {
   "cell_type": "code",
   "execution_count": 9,
   "metadata": {},
   "outputs": [
    {
     "name": "stdout",
     "output_type": "stream",
     "text": [
      "fitting [0] / [1000]\n"
     ]
    },
    {
     "data": {
      "text/plain": [
       "<matplotlib.legend.Legend at 0x1d18138db48>"
      ]
     },
     "execution_count": 9,
     "metadata": {},
     "output_type": "execute_result"
    },
    {
     "data": {
      "image/png": "[encoded data removed]",
      "text/plain": [
       "<Figure size 432x216 with 2 Axes>"
      ]
     },
     "metadata": {
      "needs_background": "light"
     },
     "output_type": "display_data"
    }
   ],
   "source": [
    "# qnet = MLP(4, 2, \n",
    "#            num_neurons=[128,128], \n",
    "#            out_act='ReLU')\n",
    "# state =4차원 action 2차원\n",
    "qnet = MLP(4, 2, num_neurons=[128,128],out_act='ReLU')\n",
    "qnet_target = MLP(4, 2, num_neurons=[128,128],out_act='ReLU')\n",
    "\n",
    "#오프라인데이터셋에 대해 탐색한 explore을 저장하지는 않기때문에 0으로 설정하고 online tuning할때 올려서 epslilon 설정\n",
    "epsilon = float(0.0)\n",
    "gamma = 0.9\n",
    "lr = 0.001\n",
    "action_dim = 1\n",
    "\n",
    "# q_net target을 어찌설정할지 모르겠음\n",
    "new_dqn_agent = DQN(state_dim=qnet,action_dim=action_dim,qnet=qnet,qnet_target=qnet_target,lr=lr,epsilon=epsilon,gamma=gamma,)\n",
    "\n",
    "batch_size = 1024\n",
    "n_updates = 1000\n",
    "fit_device = 'cuda' if torch.cuda.is_available() else 'cpu'\n",
    "\n",
    "new_dqn_agent.to(fit_device)\n",
    "losses = []\n",
    "for i in range(n_updates):\n",
    "    if i % 1000 == 0:\n",
    "        print(\"fitting [{}] / [{}]\".format(i, n_updates))\n",
    "    sampled_exps = memory.sample(batch_size)\n",
    "    s, a, r, ns, done = prepare_training_inputs(sampled_exps, \n",
    "                                                device=fit_device)    \n",
    "    loss = new_dqn_agent.update(s,a,r,ns,done)\n",
    "    losses.append(loss.detach())\n",
    "    \n",
    "    \n",
    "          \n",
    "new_dqn_agent.to('cpu')\n",
    "fig, axes = plt.subplots(1,2, figsize=(6,3))\n",
    "axes[0].plot(losses, label='loss')\n",
    "axes[0].legend()\n",
    "fig.tight_layout()\n",
    "\n",
    "\n",
    "num_runs = 500\n",
    "new_dqn_cum_rs = []\n",
    "for n_epi in range(num_runs):\n",
    "    s = env.reset()\n",
    "    cum_r = 0\n",
    "\n",
    "    # 몇초 버텼나\n",
    "    while True:\n",
    "        s = torch.tensor((s,), dtype=torch.float)\n",
    "        # a = int(new_dqn_agent.get_action(s).squeeze())\n",
    "        a = new_dqn_agent.get_action(s)\n",
    "        ns, r, done, info = env.step(a)\n",
    "\n",
    "        s = ns\n",
    "        cum_r += 1\n",
    "        if done:\n",
    "            new_dqn_cum_rs.append(cum_r)\n",
    "            break\n",
    "plt.hist(new_dqn_cum_rs, density=True, label='offline')\n",
    "plt.legend()"
   ]
  },
  {
   "cell_type": "code",
   "execution_count": 10,
   "metadata": {},
   "outputs": [
    {
     "name": "stdout",
     "output_type": "stream",
     "text": [
      "fitting [0] / [1000]\n"
     ]
    },
    {
     "data": {
      "text/plain": [
       "<matplotlib.legend.Legend at 0x1d182550608>"
      ]
     },
     "execution_count": 10,
     "metadata": {},
     "output_type": "execute_result"
    },
    {
     "data": {
      "image/png": "[encoded data removed]",
      "text/plain": [
       "<Figure size 432x216 with 2 Axes>"
      ]
     },
     "metadata": {
      "needs_background": "light"
     },
     "output_type": "display_data"
    }
   ],
   "source": [
    "# qnet = MLP(4, 2, \n",
    "#            num_neurons=[128,128], \n",
    "#            out_act='ReLU')\n",
    "# state =4차원 action 2차원\n",
    "qnet = MLP(4, 2, num_neurons=[128,128],out_act='ReLU')\n",
    "qnet_target = MLP(4, 2, num_neurons=[128,128],out_act='ReLU')\n",
    "\n",
    "#오프라인데이터셋에 대해 탐색한 explore을 저장하지는 않기때문에 0으로 설정하고 online tuning할때 올려서 epslilon 설정\n",
    "epsilon = float(0.0)\n",
    "gamma = 0.9\n",
    "lr = 0.001\n",
    "action_dim = 1\n",
    "\n",
    "# q_net target을 어찌설정할지 모르겠음\n",
    "new_dqn_agent = DQN(state_dim=qnet,action_dim=action_dim,qnet=qnet,qnet_target=qnet_target,lr=lr,epsilon=epsilon,gamma=gamma,)\n",
    "\n",
    "batch_size = 1024\n",
    "n_updates = 1000\n",
    "fit_device = 'cuda' if torch.cuda.is_available() else 'cpu'\n",
    "\n",
    "new_dqn_agent.to(fit_device)\n",
    "losses = []\n",
    "for i in range(n_updates):\n",
    "    if i % 1000 == 0:\n",
    "        print(\"fitting [{}] / [{}]\".format(i, n_updates))\n",
    "    sampled_exps = memory.sample(batch_size)\n",
    "    s, a, r, ns, done = prepare_training_inputs(sampled_exps, \n",
    "                                                device=fit_device)    \n",
    "    loss = new_dqn_agent.update(s,a,r,ns,done)\n",
    "    losses.append(loss.detach())\n",
    "    \n",
    "    \n",
    "          \n",
    "new_dqn_agent.to('cpu')\n",
    "fig, axes = plt.subplots(1,2, figsize=(6,3))\n",
    "axes[0].plot(losses, label='loss')\n",
    "axes[0].legend()\n",
    "fig.tight_layout()\n",
    "\n",
    "\n",
    "num_runs = 500\n",
    "new_dqn_cum_rs = []\n",
    "for n_epi in range(num_runs):\n",
    "    s = env.reset()\n",
    "    cum_r = 0\n",
    "\n",
    "    # 몇초 버텼나\n",
    "    while True:\n",
    "        s = torch.tensor((s,), dtype=torch.float)\n",
    "        # a = int(new_dqn_agent.get_action(s).squeeze())\n",
    "        a = new_dqn_agent.get_action(s)\n",
    "        ns, r, done, info = env.step(a)\n",
    "\n",
    "        s = ns\n",
    "        cum_r += 1\n",
    "        if done:\n",
    "            new_dqn_cum_rs.append(cum_r)\n",
    "            break\n",
    "plt.hist(new_dqn_cum_rs, density=True, label='offline')\n",
    "plt.legend()"
   ]
  },
  {
   "cell_type": "code",
   "execution_count": 11,
   "metadata": {},
   "outputs": [
    {
     "name": "stdout",
     "output_type": "stream",
     "text": [
      "fitting [0] / [1000]\n"
     ]
    },
    {
     "data": {
      "text/plain": [
       "<matplotlib.legend.Legend at 0x1d18255dbc8>"
      ]
     },
     "execution_count": 11,
     "metadata": {},
     "output_type": "execute_result"
    },
    {
     "data": {
      "image/png": "[encoded data removed]",
      "text/plain": [
       "<Figure size 432x216 with 2 Axes>"
      ]
     },
     "metadata": {
      "needs_background": "light"
     },
     "output_type": "display_data"
    }
   ],
   "source": [
    "# qnet = MLP(4, 2, \n",
    "#            num_neurons=[128,128], \n",
    "#            out_act='ReLU')\n",
    "# state =4차원 action 2차원\n",
    "qnet = MLP(4, 2, num_neurons=[128,128],out_act='ReLU')\n",
    "qnet_target = MLP(4, 2, num_neurons=[128,128],out_act='ReLU')\n",
    "\n",
    "#오프라인데이터셋에 대해 탐색한 explore을 저장하지는 않기때문에 0으로 설정하고 online tuning할때 올려서 epslilon 설정\n",
    "epsilon = float(0.0)\n",
    "gamma = 0.9\n",
    "lr = 0.001\n",
    "action_dim = 1\n",
    "\n",
    "# q_net target을 어찌설정할지 모르겠음\n",
    "new_dqn_agent = DQN(state_dim=qnet,action_dim=action_dim,qnet=qnet,qnet_target=qnet_target,lr=lr,epsilon=epsilon,gamma=gamma,)\n",
    "\n",
    "batch_size = 1024\n",
    "n_updates = 1000\n",
    "fit_device = 'cuda' if torch.cuda.is_available() else 'cpu'\n",
    "\n",
    "new_dqn_agent.to(fit_device)\n",
    "losses = []\n",
    "for i in range(n_updates):\n",
    "    if i % 1000 == 0:\n",
    "        print(\"fitting [{}] / [{}]\".format(i, n_updates))\n",
    "    sampled_exps = memory.sample(batch_size)\n",
    "    s, a, r, ns, done = prepare_training_inputs(sampled_exps, \n",
    "                                                device=fit_device)    \n",
    "    loss = new_dqn_agent.update(s,a,r,ns,done)\n",
    "    losses.append(loss.detach())\n",
    "    \n",
    "    \n",
    "          \n",
    "new_dqn_agent.to('cpu')\n",
    "fig, axes = plt.subplots(1,2, figsize=(6,3))\n",
    "axes[0].plot(losses, label='loss')\n",
    "axes[0].legend()\n",
    "fig.tight_layout()\n",
    "\n",
    "\n",
    "num_runs = 500\n",
    "new_dqn_cum_rs = []\n",
    "for n_epi in range(num_runs):\n",
    "    s = env.reset()\n",
    "    cum_r = 0\n",
    "\n",
    "    # 몇초 버텼나\n",
    "    while True:\n",
    "        s = torch.tensor((s,), dtype=torch.float)\n",
    "        # a = int(new_dqn_agent.get_action(s).squeeze())\n",
    "        a = new_dqn_agent.get_action(s)\n",
    "        ns, r, done, info = env.step(a)\n",
    "\n",
    "        s = ns\n",
    "        cum_r += 1\n",
    "        if done:\n",
    "            new_dqn_cum_rs.append(cum_r)\n",
    "            break\n",
    "plt.hist(new_dqn_cum_rs, density=True, label='offline')\n",
    "plt.legend()"
   ]
  },
  {
   "cell_type": "code",
   "execution_count": 12,
   "metadata": {},
   "outputs": [
    {
     "name": "stdout",
     "output_type": "stream",
     "text": [
      "fitting [0] / [1000]\n"
     ]
    },
    {
     "data": {
      "text/plain": [
       "<matplotlib.legend.Legend at 0x1d182766988>"
      ]
     },
     "execution_count": 12,
     "metadata": {},
     "output_type": "execute_result"
    },
    {
     "data": {
      "image/png": "[encoded data removed]",
      "text/plain": [
       "<Figure size 432x216 with 2 Axes>"
      ]
     },
     "metadata": {
      "needs_background": "light"
     },
     "output_type": "display_data"
    }
   ],
   "source": [
    "# qnet = MLP(4, 2, \n",
    "#            num_neurons=[128,128], \n",
    "#            out_act='ReLU')\n",
    "# state =4차원 action 2차원\n",
    "qnet = MLP(4, 2, num_neurons=[128,128],out_act='ReLU')\n",
    "qnet_target = MLP(4, 2, num_neurons=[128,128],out_act='ReLU')\n",
    "\n",
    "#오프라인데이터셋에 대해 탐색한 explore을 저장하지는 않기때문에 0으로 설정하고 online tuning할때 올려서 epslilon 설정\n",
    "epsilon = float(0.0)\n",
    "gamma = 0.9\n",
    "lr = 0.001\n",
    "action_dim = 1\n",
    "\n",
    "# q_net target을 어찌설정할지 모르겠음\n",
    "new_dqn_agent = DQN(state_dim=qnet,action_dim=action_dim,qnet=qnet,qnet_target=qnet_target,lr=lr,epsilon=epsilon,gamma=gamma,)\n",
    "\n",
    "batch_size = 1024\n",
    "n_updates = 1000\n",
    "fit_device = 'cuda' if torch.cuda.is_available() else 'cpu'\n",
    "\n",
    "new_dqn_agent.to(fit_device)\n",
    "losses = []\n",
    "for i in range(n_updates):\n",
    "    if i % 1000 == 0:\n",
    "        print(\"fitting [{}] / [{}]\".format(i, n_updates))\n",
    "    sampled_exps = memory.sample(batch_size)\n",
    "    s, a, r, ns, done = prepare_training_inputs(sampled_exps, \n",
    "                                                device=fit_device)    \n",
    "    loss = new_dqn_agent.update(s,a,r,ns,done)\n",
    "    losses.append(loss.detach())\n",
    "    \n",
    "    \n",
    "          \n",
    "new_dqn_agent.to('cpu')\n",
    "fig, axes = plt.subplots(1,2, figsize=(6,3))\n",
    "axes[0].plot(losses, label='loss')\n",
    "axes[0].legend()\n",
    "fig.tight_layout()\n",
    "\n",
    "\n",
    "num_runs = 500\n",
    "new_dqn_cum_rs = []\n",
    "for n_epi in range(num_runs):\n",
    "    s = env.reset()\n",
    "    cum_r = 0\n",
    "\n",
    "    # 몇초 버텼나\n",
    "    while True:\n",
    "        s = torch.tensor((s,), dtype=torch.float)\n",
    "        # a = int(new_dqn_agent.get_action(s).squeeze())\n",
    "        a = new_dqn_agent.get_action(s)\n",
    "        ns, r, done, info = env.step(a)\n",
    "\n",
    "        s = ns\n",
    "        cum_r += 1\n",
    "        if done:\n",
    "            new_dqn_cum_rs.append(cum_r)\n",
    "            break\n",
    "plt.hist(new_dqn_cum_rs, density=True, label='offline')\n",
    "plt.legend()"
   ]
  },
  {
   "cell_type": "code",
   "execution_count": 18,
   "metadata": {},
   "outputs": [
    {
     "name": "stdout",
     "output_type": "stream",
     "text": [
      "fitting [0] / [1000]\n"
     ]
    },
    {
     "data": {
      "text/plain": [
       "<matplotlib.legend.Legend at 0x1d182d7d388>"
      ]
     },
     "execution_count": 18,
     "metadata": {},
     "output_type": "execute_result"
    },
    {
     "data": {
      "image/png": "[encoded data removed]",
      "text/plain": [
       "<Figure size 432x216 with 2 Axes>"
      ]
     },
     "metadata": {
      "needs_background": "light"
     },
     "output_type": "display_data"
    }
   ],
   "source": [
    "# qnet = MLP(4, 2, \n",
    "#            num_neurons=[128,128], \n",
    "#            out_act='ReLU')\n",
    "# state =4차원 action 2차원\n",
    "qnet = MLP(4, 2, num_neurons=[128,128],out_act='ReLU')\n",
    "qnet_target = MLP(4, 2, num_neurons=[128,128],out_act='ReLU')\n",
    "\n",
    "#오프라인데이터셋에 대해 탐색한 explore을 저장하지는 않기때문에 0으로 설정하고 online tuning할때 올려서 epslilon 설정\n",
    "epsilon = float(0.0)\n",
    "gamma = 0.9\n",
    "lr = 0.001\n",
    "action_dim = 1\n",
    "\n",
    "# q_net target을 어찌설정할지 모르겠음\n",
    "new_dqn_agent = DQN(state_dim=qnet,action_dim=action_dim,qnet=qnet,qnet_target=qnet_target,lr=lr,epsilon=epsilon,gamma=gamma,)\n",
    "\n",
    "batch_size = 1024\n",
    "n_updates = 1000\n",
    "fit_device = 'cuda' if torch.cuda.is_available() else 'cpu'\n",
    "\n",
    "new_dqn_agent.to(fit_device)\n",
    "losses = []\n",
    "for i in range(n_updates):\n",
    "    if i % 1000 == 0:\n",
    "        print(\"fitting [{}] / [{}]\".format(i, n_updates))\n",
    "    sampled_exps = memory.sample(batch_size)\n",
    "    s, a, r, ns, done = prepare_training_inputs(sampled_exps, \n",
    "                                                device=fit_device)    \n",
    "    loss = new_dqn_agent.update(s,a,r,ns,done)\n",
    "    losses.append(loss.detach())\n",
    "    \n",
    "    \n",
    "          \n",
    "new_dqn_agent.to('cpu')\n",
    "fig, axes = plt.subplots(1,2, figsize=(6,3))\n",
    "axes[0].plot(losses, label='loss')\n",
    "axes[0].legend()\n",
    "fig.tight_layout()\n",
    "\n",
    "\n",
    "num_runs = 500\n",
    "new_dqn_cum_rs = []\n",
    "for n_epi in range(num_runs):\n",
    "    s = env.reset()\n",
    "    cum_r = 0\n",
    "\n",
    "    # 몇초 버텼나\n",
    "    while True:\n",
    "        s = torch.tensor((s,), dtype=torch.float)\n",
    "        # a = int(new_dqn_agent.get_action(s).squeeze())\n",
    "        a = new_dqn_agent.get_action(s)\n",
    "        ns, r, done, info = env.step(a)\n",
    "\n",
    "        s = ns\n",
    "        cum_r += 1\n",
    "        if done:\n",
    "            new_dqn_cum_rs.append(cum_r)\n",
    "            break\n",
    "plt.hist(new_dqn_cum_rs, density=True, label='offline')\n",
    "plt.legend()"
   ]
  },
  {
   "cell_type": "code",
   "execution_count": 19,
   "metadata": {},
   "outputs": [
    {
     "name": "stdout",
     "output_type": "stream",
     "text": [
      "fitting [0] / [1000]\n"
     ]
    },
    {
     "data": {
      "text/plain": [
       "<matplotlib.legend.Legend at 0x1d182b97688>"
      ]
     },
     "execution_count": 19,
     "metadata": {},
     "output_type": "execute_result"
    },
    {
     "data": {
      "image/png": "[encoded data removed]",
      "text/plain": [
       "<Figure size 432x216 with 2 Axes>"
      ]
     },
     "metadata": {
      "needs_background": "light"
     },
     "output_type": "display_data"
    }
   ],
   "source": [
    "# qnet = MLP(4, 2, \n",
    "#            num_neurons=[128,128], \n",
    "#            out_act='ReLU')\n",
    "# state =4차원 action 2차원\n",
    "qnet = MLP(4, 2, num_neurons=[128,128],out_act='ReLU')\n",
    "qnet_target = MLP(4, 2, num_neurons=[128,128],out_act='ReLU')\n",
    "\n",
    "#오프라인데이터셋에 대해 탐색한 explore을 저장하지는 않기때문에 0으로 설정하고 online tuning할때 올려서 epslilon 설정\n",
    "epsilon = float(0.0)\n",
    "gamma = 0.9\n",
    "lr = 0.001\n",
    "action_dim = 1\n",
    "\n",
    "# q_net target을 어찌설정할지 모르겠음\n",
    "new_dqn_agent = DQN(state_dim=qnet,action_dim=action_dim,qnet=qnet,qnet_target=qnet_target,lr=lr,epsilon=epsilon,gamma=gamma,)\n",
    "\n",
    "batch_size = 1024\n",
    "n_updates = 1000\n",
    "fit_device = 'cuda' if torch.cuda.is_available() else 'cpu'\n",
    "\n",
    "new_dqn_agent.to(fit_device)\n",
    "losses = []\n",
    "for i in range(n_updates):\n",
    "    if i % 1000 == 0:\n",
    "        print(\"fitting [{}] / [{}]\".format(i, n_updates))\n",
    "    sampled_exps = memory.sample(batch_size)\n",
    "    s, a, r, ns, done = prepare_training_inputs(sampled_exps, \n",
    "                                                device=fit_device)    \n",
    "    loss = new_dqn_agent.update(s,a,r,ns,done)\n",
    "    losses.append(loss.detach())\n",
    "    \n",
    "    \n",
    "          \n",
    "new_dqn_agent.to('cpu')\n",
    "fig, axes = plt.subplots(1,2, figsize=(6,3))\n",
    "axes[0].plot(losses, label='loss')\n",
    "axes[0].legend()\n",
    "fig.tight_layout()\n",
    "\n",
    "\n",
    "num_runs = 500\n",
    "new_dqn_cum_rs = []\n",
    "for n_epi in range(num_runs):\n",
    "    s = env.reset()\n",
    "    cum_r = 0\n",
    "\n",
    "    # 몇초 버텼나\n",
    "    while True:\n",
    "        s = torch.tensor((s,), dtype=torch.float)\n",
    "        # a = int(new_dqn_agent.get_action(s).squeeze())\n",
    "        a = new_dqn_agent.get_action(s)\n",
    "        ns, r, done, info = env.step(a)\n",
    "\n",
    "        s = ns\n",
    "        cum_r += 1\n",
    "        if done:\n",
    "            new_dqn_cum_rs.append(cum_r)\n",
    "            break\n",
    "plt.hist(new_dqn_cum_rs, density=True, label='offline')\n",
    "plt.legend()"
   ]
  },
  {
   "cell_type": "code",
   "execution_count": 20,
   "metadata": {},
   "outputs": [
    {
     "name": "stdout",
     "output_type": "stream",
     "text": [
      "fitting [0] / [1000]\n"
     ]
    },
    {
     "data": {
      "text/plain": [
       "<matplotlib.legend.Legend at 0x1d182e7f108>"
      ]
     },
     "execution_count": 20,
     "metadata": {},
     "output_type": "execute_result"
    },
    {
     "data": {
      "image/png": "[encoded data removed]",
      "text/plain": [
       "<Figure size 432x216 with 2 Axes>"
      ]
     },
     "metadata": {
      "needs_background": "light"
     },
     "output_type": "display_data"
    }
   ],
   "source": [
    "# qnet = MLP(4, 2, \n",
    "#            num_neurons=[128,128], \n",
    "#            out_act='ReLU')\n",
    "# state =4차원 action 2차원\n",
    "qnet = MLP(4, 2, num_neurons=[128,128],out_act='ReLU')\n",
    "qnet_target = MLP(4, 2, num_neurons=[128,128],out_act='ReLU')\n",
    "\n",
    "#오프라인데이터셋에 대해 탐색한 explore을 저장하지는 않기때문에 0으로 설정하고 online tuning할때 올려서 epslilon 설정\n",
    "epsilon = float(0.0)\n",
    "gamma = 0.9\n",
    "lr = 0.001\n",
    "action_dim = 1\n",
    "\n",
    "# q_net target을 어찌설정할지 모르겠음\n",
    "new_dqn_agent = DQN(state_dim=qnet,action_dim=action_dim,qnet=qnet,qnet_target=qnet_target,lr=lr,epsilon=epsilon,gamma=gamma,)\n",
    "\n",
    "batch_size = 1024\n",
    "n_updates = 1000\n",
    "fit_device = 'cuda' if torch.cuda.is_available() else 'cpu'\n",
    "\n",
    "new_dqn_agent.to(fit_device)\n",
    "losses = []\n",
    "for i in range(n_updates):\n",
    "    if i % 1000 == 0:\n",
    "        print(\"fitting [{}] / [{}]\".format(i, n_updates))\n",
    "    sampled_exps = memory.sample(batch_size)\n",
    "    s, a, r, ns, done = prepare_training_inputs(sampled_exps, \n",
    "                                                device=fit_device)    \n",
    "    loss = new_dqn_agent.update(s,a,r,ns,done)\n",
    "    losses.append(loss.detach())\n",
    "    \n",
    "    \n",
    "          \n",
    "new_dqn_agent.to('cpu')\n",
    "fig, axes = plt.subplots(1,2, figsize=(6,3))\n",
    "axes[0].plot(losses, label='loss')\n",
    "axes[0].legend()\n",
    "fig.tight_layout()\n",
    "\n",
    "\n",
    "num_runs = 500\n",
    "new_dqn_cum_rs = []\n",
    "for n_epi in range(num_runs):\n",
    "    s = env.reset()\n",
    "    cum_r = 0\n",
    "\n",
    "    # 몇초 버텼나\n",
    "    while True:\n",
    "        s = torch.tensor((s,), dtype=torch.float)\n",
    "        # a = int(new_dqn_agent.get_action(s).squeeze())\n",
    "        a = new_dqn_agent.get_action(s)\n",
    "        ns, r, done, info = env.step(a)\n",
    "\n",
    "        s = ns\n",
    "        cum_r += 1\n",
    "        if done:\n",
    "            new_dqn_cum_rs.append(cum_r)\n",
    "            break\n",
    "plt.hist(new_dqn_cum_rs, density=True, label='offline')\n",
    "plt.legend()"
   ]
  },
  {
   "cell_type": "code",
   "execution_count": 21,
   "metadata": {},
   "outputs": [
    {
     "name": "stdout",
     "output_type": "stream",
     "text": [
      "fitting [0] / [1000]\n"
     ]
    },
    {
     "data": {
      "text/plain": [
       "<matplotlib.legend.Legend at 0x1d182f94288>"
      ]
     },
     "execution_count": 21,
     "metadata": {},
     "output_type": "execute_result"
    },
    {
     "data": {
      "image/png": "[encoded data removed]",
      "text/plain": [
       "<Figure size 432x216 with 2 Axes>"
      ]
     },
     "metadata": {
      "needs_background": "light"
     },
     "output_type": "display_data"
    }
   ],
   "source": [
    "# qnet = MLP(4, 2, \n",
    "#            num_neurons=[128,128], \n",
    "#            out_act='ReLU')\n",
    "# state =4차원 action 2차원\n",
    "qnet = MLP(4, 2, num_neurons=[128,128],out_act='ReLU')\n",
    "qnet_target = MLP(4, 2, num_neurons=[128,128],out_act='ReLU')\n",
    "\n",
    "#오프라인데이터셋에 대해 탐색한 explore을 저장하지는 않기때문에 0으로 설정하고 online tuning할때 올려서 epslilon 설정\n",
    "epsilon = float(0.0)\n",
    "gamma = 0.9\n",
    "lr = 0.001\n",
    "action_dim = 1\n",
    "\n",
    "# q_net target을 어찌설정할지 모르겠음\n",
    "new_dqn_agent = DQN(state_dim=qnet,action_dim=action_dim,qnet=qnet,qnet_target=qnet_target,lr=lr,epsilon=epsilon,gamma=gamma,)\n",
    "\n",
    "batch_size = 1024\n",
    "n_updates = 1000\n",
    "fit_device = 'cuda' if torch.cuda.is_available() else 'cpu'\n",
    "\n",
    "new_dqn_agent.to(fit_device)\n",
    "losses = []\n",
    "for i in range(n_updates):\n",
    "    if i % 1000 == 0:\n",
    "        print(\"fitting [{}] / [{}]\".format(i, n_updates))\n",
    "    sampled_exps = memory.sample(batch_size)\n",
    "    s, a, r, ns, done = prepare_training_inputs(sampled_exps, \n",
    "                                                device=fit_device)    \n",
    "    loss = new_dqn_agent.update(s,a,r,ns,done)\n",
    "    losses.append(loss.detach())\n",
    "    \n",
    "    \n",
    "          \n",
    "new_dqn_agent.to('cpu')\n",
    "fig, axes = plt.subplots(1,2, figsize=(6,3))\n",
    "axes[0].plot(losses, label='loss')\n",
    "axes[0].legend()\n",
    "fig.tight_layout()\n",
    "\n",
    "\n",
    "num_runs = 500\n",
    "new_dqn_cum_rs = []\n",
    "for n_epi in range(num_runs):\n",
    "    s = env.reset()\n",
    "    cum_r = 0\n",
    "\n",
    "    # 몇초 버텼나\n",
    "    while True:\n",
    "        s = torch.tensor((s,), dtype=torch.float)\n",
    "        # a = int(new_dqn_agent.get_action(s).squeeze())\n",
    "        a = new_dqn_agent.get_action(s)\n",
    "        ns, r, done, info = env.step(a)\n",
    "\n",
    "        s = ns\n",
    "        cum_r += 1\n",
    "        if done:\n",
    "            new_dqn_cum_rs.append(cum_r)\n",
    "            break\n",
    "plt.hist(new_dqn_cum_rs, density=True, label='offline')\n",
    "plt.legend()"
   ]
  },
  {
   "cell_type": "code",
   "execution_count": 22,
   "metadata": {},
   "outputs": [
    {
     "name": "stdout",
     "output_type": "stream",
     "text": [
      "fitting [0] / [1000]\n"
     ]
    },
    {
     "data": {
      "text/plain": [
       "<matplotlib.legend.Legend at 0x1d1841668c8>"
      ]
     },
     "execution_count": 22,
     "metadata": {},
     "output_type": "execute_result"
    },
    {
     "data": {
      "image/png": "[encoded data removed]",
      "text/plain": [
       "<Figure size 432x216 with 2 Axes>"
      ]
     },
     "metadata": {
      "needs_background": "light"
     },
     "output_type": "display_data"
    }
   ],
   "source": [
    "# qnet = MLP(4, 2, \n",
    "#            num_neurons=[128,128], \n",
    "#            out_act='ReLU')\n",
    "# state =4차원 action 2차원\n",
    "qnet = MLP(4, 2, num_neurons=[128,128],out_act='ReLU')\n",
    "qnet_target = MLP(4, 2, num_neurons=[128,128],out_act='ReLU')\n",
    "\n",
    "#오프라인데이터셋에 대해 탐색한 explore을 저장하지는 않기때문에 0으로 설정하고 online tuning할때 올려서 epslilon 설정\n",
    "epsilon = float(0.0)\n",
    "gamma = 0.9\n",
    "lr = 0.001\n",
    "action_dim = 1\n",
    "\n",
    "# q_net target을 어찌설정할지 모르겠음\n",
    "new_dqn_agent = DQN(state_dim=qnet,action_dim=action_dim,qnet=qnet,qnet_target=qnet_target,lr=lr,epsilon=epsilon,gamma=gamma,)\n",
    "\n",
    "batch_size = 1024\n",
    "n_updates = 1000\n",
    "fit_device = 'cuda' if torch.cuda.is_available() else 'cpu'\n",
    "\n",
    "new_dqn_agent.to(fit_device)\n",
    "losses = []\n",
    "for i in range(n_updates):\n",
    "    if i % 1000 == 0:\n",
    "        print(\"fitting [{}] / [{}]\".format(i, n_updates))\n",
    "    sampled_exps = memory.sample(batch_size)\n",
    "    s, a, r, ns, done = prepare_training_inputs(sampled_exps, \n",
    "                                                device=fit_device)    \n",
    "    loss = new_dqn_agent.update(s,a,r,ns,done)\n",
    "    losses.append(loss.detach())\n",
    "    \n",
    "    \n",
    "          \n",
    "new_dqn_agent.to('cpu')\n",
    "fig, axes = plt.subplots(1,2, figsize=(6,3))\n",
    "axes[0].plot(losses, label='loss')\n",
    "axes[0].legend()\n",
    "fig.tight_layout()\n",
    "\n",
    "\n",
    "num_runs = 500\n",
    "new_dqn_cum_rs = []\n",
    "for n_epi in range(num_runs):\n",
    "    s = env.reset()\n",
    "    cum_r = 0\n",
    "\n",
    "    # 몇초 버텼나\n",
    "    while True:\n",
    "        s = torch.tensor((s,), dtype=torch.float)\n",
    "        # a = int(new_dqn_agent.get_action(s).squeeze())\n",
    "        a = new_dqn_agent.get_action(s)\n",
    "        ns, r, done, info = env.step(a)\n",
    "\n",
    "        s = ns\n",
    "        cum_r += 1\n",
    "        if done:\n",
    "            new_dqn_cum_rs.append(cum_r)\n",
    "            break\n",
    "plt.hist(new_dqn_cum_rs, density=True, label='offline')\n",
    "plt.legend()"
   ]
  },
  {
   "cell_type": "code",
   "execution_count": 13,
   "metadata": {},
   "outputs": [
    {
     "name": "stdout",
     "output_type": "stream",
     "text": [
      "fitting [0] / [1000]\n"
     ]
    },
    {
     "data": {
      "text/plain": [
       "<matplotlib.legend.Legend at 0x1d182769088>"
      ]
     },
     "execution_count": 13,
     "metadata": {},
     "output_type": "execute_result"
    },
    {
     "data": {
      "image/png": "[encoded data removed]",
      "text/plain": [
       "<Figure size 432x216 with 2 Axes>"
      ]
     },
     "metadata": {
      "needs_background": "light"
     },
     "output_type": "display_data"
    }
   ],
   "source": [
    "# qnet = MLP(4, 2, \n",
    "#            num_neurons=[128,128], \n",
    "#            out_act='ReLU')\n",
    "# state =4차원 action 2차원\n",
    "qnet = MLP(4, 2, num_neurons=[128,128])\n",
    "qnet_target = MLP(4, 2, num_neurons=[128,128])\n",
    "\n",
    "#오프라인데이터셋에 대해 탐색한 explore을 저장하지는 않기때문에 0으로 설정하고 online tuning할때 올려서 epslilon 설정\n",
    "epsilon = float(0.0)\n",
    "gamma = 0.9\n",
    "lr = 0.001\n",
    "action_dim = 1\n",
    "\n",
    "# q_net target을 어찌설정할지 모르겠음\n",
    "new_dqn_agent = DQN(state_dim=qnet,action_dim=action_dim,qnet=qnet,qnet_target=qnet_target,lr=lr,epsilon=epsilon,gamma=gamma,)\n",
    "\n",
    "batch_size = 1024\n",
    "n_updates = 1000\n",
    "fit_device = 'cuda' if torch.cuda.is_available() else 'cpu'\n",
    "\n",
    "new_dqn_agent.to(fit_device)\n",
    "losses = []\n",
    "for i in range(n_updates):\n",
    "    if i % 1000 == 0:\n",
    "        print(\"fitting [{}] / [{}]\".format(i, n_updates))\n",
    "    sampled_exps = memory.sample(batch_size)\n",
    "    s, a, r, ns, done = prepare_training_inputs(sampled_exps, \n",
    "                                                device=fit_device)    \n",
    "    loss = new_dqn_agent.update(s,a,r,ns,done)\n",
    "    losses.append(loss.detach())\n",
    "    \n",
    "    \n",
    "          \n",
    "new_dqn_agent.to('cpu')\n",
    "fig, axes = plt.subplots(1,2, figsize=(6,3))\n",
    "axes[0].plot(losses, label='loss')\n",
    "axes[0].legend()\n",
    "fig.tight_layout()\n",
    "\n",
    "\n",
    "num_runs = 500\n",
    "new_dqn_cum_rs = []\n",
    "for n_epi in range(num_runs):\n",
    "    s = env.reset()\n",
    "    cum_r = 0\n",
    "\n",
    "    # 몇초 버텼나\n",
    "    while True:\n",
    "        s = torch.tensor((s,), dtype=torch.float)\n",
    "        # a = int(new_dqn_agent.get_action(s).squeeze())\n",
    "        a = new_dqn_agent.get_action(s)\n",
    "        ns, r, done, info = env.step(a)\n",
    "\n",
    "        s = ns\n",
    "        cum_r += 1\n",
    "        if done:\n",
    "            new_dqn_cum_rs.append(cum_r)\n",
    "            break\n",
    "plt.hist(new_dqn_cum_rs, density=True, label='offline')\n",
    "plt.legend()"
   ]
  },
  {
   "cell_type": "code",
   "execution_count": 14,
   "metadata": {},
   "outputs": [
    {
     "name": "stdout",
     "output_type": "stream",
     "text": [
      "fitting [0] / [1000]\n"
     ]
    },
    {
     "data": {
      "text/plain": [
       "<matplotlib.legend.Legend at 0x1d18286e1c8>"
      ]
     },
     "execution_count": 14,
     "metadata": {},
     "output_type": "execute_result"
    },
    {
     "data": {
      "image/png": "[encoded data removed]",
      "text/plain": [
       "<Figure size 432x216 with 2 Axes>"
      ]
     },
     "metadata": {
      "needs_background": "light"
     },
     "output_type": "display_data"
    }
   ],
   "source": [
    "# qnet = MLP(4, 2, \n",
    "#            num_neurons=[128,128], \n",
    "#            out_act='ReLU')\n",
    "# state =4차원 action 2차원\n",
    "qnet = MLP(4, 2, num_neurons=[128,128])\n",
    "qnet_target = MLP(4, 2, num_neurons=[128,128])\n",
    "\n",
    "#오프라인데이터셋에 대해 탐색한 explore을 저장하지는 않기때문에 0으로 설정하고 online tuning할때 올려서 epslilon 설정\n",
    "epsilon = float(0.0)\n",
    "gamma = 0.9\n",
    "lr = 0.001\n",
    "action_dim = 1\n",
    "\n",
    "# q_net target을 어찌설정할지 모르겠음\n",
    "new_dqn_agent = DQN(state_dim=qnet,action_dim=action_dim,qnet=qnet,qnet_target=qnet_target,lr=lr,epsilon=epsilon,gamma=gamma,)\n",
    "\n",
    "batch_size = 1024\n",
    "n_updates = 1000\n",
    "fit_device = 'cuda' if torch.cuda.is_available() else 'cpu'\n",
    "\n",
    "new_dqn_agent.to(fit_device)\n",
    "losses = []\n",
    "for i in range(n_updates):\n",
    "    if i % 1000 == 0:\n",
    "        print(\"fitting [{}] / [{}]\".format(i, n_updates))\n",
    "    sampled_exps = memory.sample(batch_size)\n",
    "    s, a, r, ns, done = prepare_training_inputs(sampled_exps, \n",
    "                                                device=fit_device)    \n",
    "    loss = new_dqn_agent.update(s,a,r,ns,done)\n",
    "    losses.append(loss.detach())\n",
    "    \n",
    "    \n",
    "          \n",
    "new_dqn_agent.to('cpu')\n",
    "fig, axes = plt.subplots(1,2, figsize=(6,3))\n",
    "axes[0].plot(losses, label='loss')\n",
    "axes[0].legend()\n",
    "fig.tight_layout()\n",
    "\n",
    "\n",
    "num_runs = 500\n",
    "new_dqn_cum_rs = []\n",
    "for n_epi in range(num_runs):\n",
    "    s = env.reset()\n",
    "    cum_r = 0\n",
    "\n",
    "    # 몇초 버텼나\n",
    "    while True:\n",
    "        s = torch.tensor((s,), dtype=torch.float)\n",
    "        # a = int(new_dqn_agent.get_action(s).squeeze())\n",
    "        a = new_dqn_agent.get_action(s)\n",
    "        ns, r, done, info = env.step(a)\n",
    "\n",
    "        s = ns\n",
    "        cum_r += 1\n",
    "        if done:\n",
    "            new_dqn_cum_rs.append(cum_r)\n",
    "            break\n",
    "plt.hist(new_dqn_cum_rs, density=True, label='offline')\n",
    "plt.legend()"
   ]
  },
  {
   "cell_type": "code",
   "execution_count": 15,
   "metadata": {},
   "outputs": [
    {
     "name": "stdout",
     "output_type": "stream",
     "text": [
      "fitting [0] / [1000]\n"
     ]
    },
    {
     "data": {
      "text/plain": [
       "<matplotlib.legend.Legend at 0x1d182adcac8>"
      ]
     },
     "execution_count": 15,
     "metadata": {},
     "output_type": "execute_result"
    },
    {
     "data": {
      "image/png": "[encoded data removed]",
      "text/plain": [
       "<Figure size 432x216 with 2 Axes>"
      ]
     },
     "metadata": {
      "needs_background": "light"
     },
     "output_type": "display_data"
    }
   ],
   "source": [
    "# qnet = MLP(4, 2, \n",
    "#            num_neurons=[128,128], \n",
    "#            out_act='ReLU')\n",
    "# state =4차원 action 2차원\n",
    "qnet = MLP(4, 2, num_neurons=[128,128])\n",
    "qnet_target = MLP(4, 2, num_neurons=[128,128])\n",
    "\n",
    "#오프라인데이터셋에 대해 탐색한 explore을 저장하지는 않기때문에 0으로 설정하고 online tuning할때 올려서 epslilon 설정\n",
    "epsilon = float(0.0)\n",
    "gamma = 0.9\n",
    "lr = 0.001\n",
    "action_dim = 1\n",
    "\n",
    "# q_net target을 어찌설정할지 모르겠음\n",
    "new_dqn_agent = DQN(state_dim=qnet,action_dim=action_dim,qnet=qnet,qnet_target=qnet_target,lr=lr,epsilon=epsilon,gamma=gamma,)\n",
    "\n",
    "batch_size = 1024\n",
    "n_updates = 1000\n",
    "fit_device = 'cuda' if torch.cuda.is_available() else 'cpu'\n",
    "\n",
    "new_dqn_agent.to(fit_device)\n",
    "losses = []\n",
    "for i in range(n_updates):\n",
    "    if i % 1000 == 0:\n",
    "        print(\"fitting [{}] / [{}]\".format(i, n_updates))\n",
    "    sampled_exps = memory.sample(batch_size)\n",
    "    s, a, r, ns, done = prepare_training_inputs(sampled_exps, \n",
    "                                                device=fit_device)    \n",
    "    loss = new_dqn_agent.update(s,a,r,ns,done)\n",
    "    losses.append(loss.detach())\n",
    "    \n",
    "    \n",
    "          \n",
    "new_dqn_agent.to('cpu')\n",
    "fig, axes = plt.subplots(1,2, figsize=(6,3))\n",
    "axes[0].plot(losses, label='loss')\n",
    "axes[0].legend()\n",
    "fig.tight_layout()\n",
    "\n",
    "\n",
    "num_runs = 500\n",
    "new_dqn_cum_rs = []\n",
    "for n_epi in range(num_runs):\n",
    "    s = env.reset()\n",
    "    cum_r = 0\n",
    "\n",
    "    # 몇초 버텼나\n",
    "    while True:\n",
    "        s = torch.tensor((s,), dtype=torch.float)\n",
    "        # a = int(new_dqn_agent.get_action(s).squeeze())\n",
    "        a = new_dqn_agent.get_action(s)\n",
    "        ns, r, done, info = env.step(a)\n",
    "\n",
    "        s = ns\n",
    "        cum_r += 1\n",
    "        if done:\n",
    "            new_dqn_cum_rs.append(cum_r)\n",
    "            break\n",
    "plt.hist(new_dqn_cum_rs, density=True, label='offline')\n",
    "plt.legend()"
   ]
  },
  {
   "cell_type": "code",
   "execution_count": 16,
   "metadata": {},
   "outputs": [
    {
     "name": "stdout",
     "output_type": "stream",
     "text": [
      "fitting [0] / [1000]\n"
     ]
    },
    {
     "data": {
      "text/plain": [
       "<matplotlib.legend.Legend at 0x1d182b92508>"
      ]
     },
     "execution_count": 16,
     "metadata": {},
     "output_type": "execute_result"
    },
    {
     "data": {
      "image/png": "[encoded data removed]",
      "text/plain": [
       "<Figure size 432x216 with 2 Axes>"
      ]
     },
     "metadata": {
      "needs_background": "light"
     },
     "output_type": "display_data"
    }
   ],
   "source": [
    "# qnet = MLP(4, 2, \n",
    "#            num_neurons=[128,128], \n",
    "#            out_act='ReLU')\n",
    "# state =4차원 action 2차원\n",
    "qnet = MLP(4, 2, num_neurons=[128,128])\n",
    "qnet_target = MLP(4, 2, num_neurons=[128,128])\n",
    "\n",
    "#오프라인데이터셋에 대해 탐색한 explore을 저장하지는 않기때문에 0으로 설정하고 online tuning할때 올려서 epslilon 설정\n",
    "epsilon = float(0.0)\n",
    "gamma = 0.9\n",
    "lr = 0.001\n",
    "action_dim = 1\n",
    "\n",
    "# q_net target을 어찌설정할지 모르겠음\n",
    "new_dqn_agent = DQN(state_dim=qnet,action_dim=action_dim,qnet=qnet,qnet_target=qnet_target,lr=lr,epsilon=epsilon,gamma=gamma,)\n",
    "\n",
    "batch_size = 1024\n",
    "n_updates = 1000\n",
    "fit_device = 'cuda' if torch.cuda.is_available() else 'cpu'\n",
    "\n",
    "new_dqn_agent.to(fit_device)\n",
    "losses = []\n",
    "for i in range(n_updates):\n",
    "    if i % 1000 == 0:\n",
    "        print(\"fitting [{}] / [{}]\".format(i, n_updates))\n",
    "    sampled_exps = memory.sample(batch_size)\n",
    "    s, a, r, ns, done = prepare_training_inputs(sampled_exps, \n",
    "                                                device=fit_device)    \n",
    "    loss = new_dqn_agent.update(s,a,r,ns,done)\n",
    "    losses.append(loss.detach())\n",
    "    \n",
    "    \n",
    "          \n",
    "new_dqn_agent.to('cpu')\n",
    "fig, axes = plt.subplots(1,2, figsize=(6,3))\n",
    "axes[0].plot(losses, label='loss')\n",
    "axes[0].legend()\n",
    "fig.tight_layout()\n",
    "\n",
    "\n",
    "num_runs = 500\n",
    "new_dqn_cum_rs = []\n",
    "for n_epi in range(num_runs):\n",
    "    s = env.reset()\n",
    "    cum_r = 0\n",
    "\n",
    "    # 몇초 버텼나\n",
    "    while True:\n",
    "        s = torch.tensor((s,), dtype=torch.float)\n",
    "        # a = int(new_dqn_agent.get_action(s).squeeze())\n",
    "        a = new_dqn_agent.get_action(s)\n",
    "        ns, r, done, info = env.step(a)\n",
    "\n",
    "        s = ns\n",
    "        cum_r += 1\n",
    "        if done:\n",
    "            new_dqn_cum_rs.append(cum_r)\n",
    "            break\n",
    "plt.hist(new_dqn_cum_rs, density=True, label='offline')\n",
    "plt.legend()"
   ]
  },
  {
   "cell_type": "code",
   "execution_count": 17,
   "metadata": {},
   "outputs": [
    {
     "name": "stdout",
     "output_type": "stream",
     "text": [
      "fitting [0] / [1000]\n"
     ]
    },
    {
     "data": {
      "text/plain": [
       "<matplotlib.legend.Legend at 0x1d182c89208>"
      ]
     },
     "execution_count": 17,
     "metadata": {},
     "output_type": "execute_result"
    },
    {
     "data": {
      "image/png": "[encoded data removed]",
      "text/plain": [
       "<Figure size 432x216 with 2 Axes>"
      ]
     },
     "metadata": {
      "needs_background": "light"
     },
     "output_type": "display_data"
    }
   ],
   "source": [
    "# qnet = MLP(4, 2, \n",
    "#            num_neurons=[128,128], \n",
    "#            out_act='ReLU')\n",
    "# state =4차원 action 2차원\n",
    "qnet = MLP(4, 2, num_neurons=[128,128])\n",
    "qnet_target = MLP(4, 2, num_neurons=[128,128])\n",
    "\n",
    "#오프라인데이터셋에 대해 탐색한 explore을 저장하지는 않기때문에 0으로 설정하고 online tuning할때 올려서 epslilon 설정\n",
    "epsilon = float(0.0)\n",
    "gamma = 0.9\n",
    "lr = 0.001\n",
    "action_dim = 1\n",
    "\n",
    "# q_net target을 어찌설정할지 모르겠음\n",
    "new_dqn_agent = DQN(state_dim=qnet,action_dim=action_dim,qnet=qnet,qnet_target=qnet_target,lr=lr,epsilon=epsilon,gamma=gamma,)\n",
    "\n",
    "batch_size = 1024\n",
    "n_updates = 1000\n",
    "fit_device = 'cuda' if torch.cuda.is_available() else 'cpu'\n",
    "\n",
    "new_dqn_agent.to(fit_device)\n",
    "losses = []\n",
    "for i in range(n_updates):\n",
    "    if i % 1000 == 0:\n",
    "        print(\"fitting [{}] / [{}]\".format(i, n_updates))\n",
    "    sampled_exps = memory.sample(batch_size)\n",
    "    s, a, r, ns, done = prepare_training_inputs(sampled_exps, \n",
    "                                                device=fit_device)    \n",
    "    loss = new_dqn_agent.update(s,a,r,ns,done)\n",
    "    losses.append(loss.detach())\n",
    "    \n",
    "    \n",
    "          \n",
    "new_dqn_agent.to('cpu')\n",
    "fig, axes = plt.subplots(1,2, figsize=(6,3))\n",
    "axes[0].plot(losses, label='loss')\n",
    "axes[0].legend()\n",
    "fig.tight_layout()\n",
    "\n",
    "\n",
    "num_runs = 500\n",
    "new_dqn_cum_rs = []\n",
    "for n_epi in range(num_runs):\n",
    "    s = env.reset()\n",
    "    cum_r = 0\n",
    "\n",
    "    # 몇초 버텼나\n",
    "    while True:\n",
    "        s = torch.tensor((s,), dtype=torch.float)\n",
    "        # a = int(new_dqn_agent.get_action(s).squeeze())\n",
    "        a = new_dqn_agent.get_action(s)\n",
    "        ns, r, done, info = env.step(a)\n",
    "\n",
    "        s = ns\n",
    "        cum_r += 1\n",
    "        if done:\n",
    "            new_dqn_cum_rs.append(cum_r)\n",
    "            break\n",
    "plt.hist(new_dqn_cum_rs, density=True, label='offline')\n",
    "plt.legend()"
   ]
  },
  {
   "cell_type": "code",
   "execution_count": 23,
   "metadata": {},
   "outputs": [
    {
     "name": "stdout",
     "output_type": "stream",
     "text": [
      "fitting [0] / [1000]\n"
     ]
    },
    {
     "data": {
      "text/plain": [
       "<matplotlib.legend.Legend at 0x1d184257d48>"
      ]
     },
     "execution_count": 23,
     "metadata": {},
     "output_type": "execute_result"
    },
    {
     "data": {
      "image/png": "[encoded data removed]",
      "text/plain": [
       "<Figure size 432x216 with 2 Axes>"
      ]
     },
     "metadata": {
      "needs_background": "light"
     },
     "output_type": "display_data"
    }
   ],
   "source": [
    "# qnet = MLP(4, 2, \n",
    "#            num_neurons=[128,128], \n",
    "#            out_act='ReLU')\n",
    "# state =4차원 action 2차원\n",
    "qnet = MLP(4, 2, num_neurons=[128])\n",
    "qnet_target = MLP(4, 2, num_neurons=[128])\n",
    "\n",
    "#오프라인데이터셋에 대해 탐색한 explore을 저장하지는 않기때문에 0으로 설정하고 online tuning할때 올려서 epslilon 설정\n",
    "epsilon = float(0.0)\n",
    "gamma = 0.9\n",
    "lr = 0.001\n",
    "action_dim = 1\n",
    "\n",
    "# q_net target을 어찌설정할지 모르겠음\n",
    "new_dqn_agent = DQN(state_dim=qnet,action_dim=action_dim,qnet=qnet,qnet_target=qnet_target,lr=lr,epsilon=epsilon,gamma=gamma,)\n",
    "\n",
    "batch_size = 1024\n",
    "n_updates = 1000\n",
    "fit_device = 'cuda' if torch.cuda.is_available() else 'cpu'\n",
    "\n",
    "new_dqn_agent.to(fit_device)\n",
    "losses = []\n",
    "for i in range(n_updates):\n",
    "    if i % 1000 == 0:\n",
    "        print(\"fitting [{}] / [{}]\".format(i, n_updates))\n",
    "    sampled_exps = memory.sample(batch_size)\n",
    "    s, a, r, ns, done = prepare_training_inputs(sampled_exps, \n",
    "                                                device=fit_device)    \n",
    "    loss = new_dqn_agent.update(s,a,r,ns,done)\n",
    "    losses.append(loss.detach())\n",
    "    \n",
    "    \n",
    "          \n",
    "new_dqn_agent.to('cpu')\n",
    "fig, axes = plt.subplots(1,2, figsize=(6,3))\n",
    "axes[0].plot(losses, label='loss')\n",
    "axes[0].legend()\n",
    "fig.tight_layout()\n",
    "\n",
    "\n",
    "num_runs = 500\n",
    "new_dqn_cum_rs = []\n",
    "for n_epi in range(num_runs):\n",
    "    s = env.reset()\n",
    "    cum_r = 0\n",
    "\n",
    "    # 몇초 버텼나\n",
    "    while True:\n",
    "        s = torch.tensor((s,), dtype=torch.float)\n",
    "        # a = int(new_dqn_agent.get_action(s).squeeze())\n",
    "        a = new_dqn_agent.get_action(s)\n",
    "        ns, r, done, info = env.step(a)\n",
    "\n",
    "        s = ns\n",
    "        cum_r += 1\n",
    "        if done:\n",
    "            new_dqn_cum_rs.append(cum_r)\n",
    "            break\n",
    "plt.hist(new_dqn_cum_rs, density=True, label='offline')\n",
    "plt.legend()"
   ]
  },
  {
   "cell_type": "code",
   "execution_count": 24,
   "metadata": {},
   "outputs": [
    {
     "name": "stdout",
     "output_type": "stream",
     "text": [
      "fitting [0] / [1000]\n"
     ]
    },
    {
     "data": {
      "text/plain": [
       "<matplotlib.legend.Legend at 0x1d18426e148>"
      ]
     },
     "execution_count": 24,
     "metadata": {},
     "output_type": "execute_result"
    },
    {
     "data": {
      "image/png": "[encoded data removed]",
      "text/plain": [
       "<Figure size 432x216 with 2 Axes>"
      ]
     },
     "metadata": {
      "needs_background": "light"
     },
     "output_type": "display_data"
    }
   ],
   "source": [
    "# qnet = MLP(4, 2, \n",
    "#            num_neurons=[128,128], \n",
    "#            out_act='ReLU')\n",
    "# state =4차원 action 2차원\n",
    "qnet = MLP(4, 2, num_neurons=[128])\n",
    "qnet_target = MLP(4, 2, num_neurons=[128])\n",
    "\n",
    "#오프라인데이터셋에 대해 탐색한 explore을 저장하지는 않기때문에 0으로 설정하고 online tuning할때 올려서 epslilon 설정\n",
    "epsilon = float(0.0)\n",
    "gamma = 0.9\n",
    "lr = 0.001\n",
    "action_dim = 1\n",
    "\n",
    "# q_net target을 어찌설정할지 모르겠음\n",
    "new_dqn_agent = DQN(state_dim=qnet,action_dim=action_dim,qnet=qnet,qnet_target=qnet_target,lr=lr,epsilon=epsilon,gamma=gamma,)\n",
    "\n",
    "batch_size = 1024\n",
    "n_updates = 1000\n",
    "fit_device = 'cuda' if torch.cuda.is_available() else 'cpu'\n",
    "\n",
    "new_dqn_agent.to(fit_device)\n",
    "losses = []\n",
    "for i in range(n_updates):\n",
    "    if i % 1000 == 0:\n",
    "        print(\"fitting [{}] / [{}]\".format(i, n_updates))\n",
    "    sampled_exps = memory.sample(batch_size)\n",
    "    s, a, r, ns, done = prepare_training_inputs(sampled_exps, \n",
    "                                                device=fit_device)    \n",
    "    loss = new_dqn_agent.update(s,a,r,ns,done)\n",
    "    losses.append(loss.detach())\n",
    "    \n",
    "    \n",
    "          \n",
    "new_dqn_agent.to('cpu')\n",
    "fig, axes = plt.subplots(1,2, figsize=(6,3))\n",
    "axes[0].plot(losses, label='loss')\n",
    "axes[0].legend()\n",
    "fig.tight_layout()\n",
    "\n",
    "\n",
    "num_runs = 500\n",
    "new_dqn_cum_rs = []\n",
    "for n_epi in range(num_runs):\n",
    "    s = env.reset()\n",
    "    cum_r = 0\n",
    "\n",
    "    # 몇초 버텼나\n",
    "    while True:\n",
    "        s = torch.tensor((s,), dtype=torch.float)\n",
    "        # a = int(new_dqn_agent.get_action(s).squeeze())\n",
    "        a = new_dqn_agent.get_action(s)\n",
    "        ns, r, done, info = env.step(a)\n",
    "\n",
    "        s = ns\n",
    "        cum_r += 1\n",
    "        if done:\n",
    "            new_dqn_cum_rs.append(cum_r)\n",
    "            break\n",
    "plt.hist(new_dqn_cum_rs, density=True, label='offline')\n",
    "plt.legend()"
   ]
  },
  {
   "cell_type": "code",
   "execution_count": 25,
   "metadata": {},
   "outputs": [
    {
     "name": "stdout",
     "output_type": "stream",
     "text": [
      "fitting [0] / [1000]\n"
     ]
    },
    {
     "data": {
      "text/plain": [
       "<matplotlib.legend.Legend at 0x1d18458c408>"
      ]
     },
     "execution_count": 25,
     "metadata": {},
     "output_type": "execute_result"
    },
    {
     "data": {
      "image/png": "[encoded data removed]",
      "text/plain": [
       "<Figure size 432x216 with 2 Axes>"
      ]
     },
     "metadata": {
      "needs_background": "light"
     },
     "output_type": "display_data"
    }
   ],
   "source": [
    "# qnet = MLP(4, 2, \n",
    "#            num_neurons=[128,128], \n",
    "#            out_act='ReLU')\n",
    "# state =4차원 action 2차원\n",
    "qnet = MLP(4, 2, num_neurons=[128])\n",
    "qnet_target = MLP(4, 2, num_neurons=[128])\n",
    "\n",
    "#오프라인데이터셋에 대해 탐색한 explore을 저장하지는 않기때문에 0으로 설정하고 online tuning할때 올려서 epslilon 설정\n",
    "epsilon = float(0.0)\n",
    "gamma = 0.9\n",
    "lr = 0.001\n",
    "action_dim = 1\n",
    "\n",
    "# q_net target을 어찌설정할지 모르겠음\n",
    "new_dqn_agent = DQN(state_dim=qnet,action_dim=action_dim,qnet=qnet,qnet_target=qnet_target,lr=lr,epsilon=epsilon,gamma=gamma,)\n",
    "\n",
    "batch_size = 1024\n",
    "n_updates = 1000\n",
    "fit_device = 'cuda' if torch.cuda.is_available() else 'cpu'\n",
    "\n",
    "new_dqn_agent.to(fit_device)\n",
    "losses = []\n",
    "for i in range(n_updates):\n",
    "    if i % 1000 == 0:\n",
    "        print(\"fitting [{}] / [{}]\".format(i, n_updates))\n",
    "    sampled_exps = memory.sample(batch_size)\n",
    "    s, a, r, ns, done = prepare_training_inputs(sampled_exps, \n",
    "                                                device=fit_device)    \n",
    "    loss = new_dqn_agent.update(s,a,r,ns,done)\n",
    "    losses.append(loss.detach())\n",
    "    \n",
    "    \n",
    "          \n",
    "new_dqn_agent.to('cpu')\n",
    "fig, axes = plt.subplots(1,2, figsize=(6,3))\n",
    "axes[0].plot(losses, label='loss')\n",
    "axes[0].legend()\n",
    "fig.tight_layout()\n",
    "\n",
    "\n",
    "num_runs = 500\n",
    "new_dqn_cum_rs = []\n",
    "for n_epi in range(num_runs):\n",
    "    s = env.reset()\n",
    "    cum_r = 0\n",
    "\n",
    "    # 몇초 버텼나\n",
    "    while True:\n",
    "        s = torch.tensor((s,), dtype=torch.float)\n",
    "        # a = int(new_dqn_agent.get_action(s).squeeze())\n",
    "        a = new_dqn_agent.get_action(s)\n",
    "        ns, r, done, info = env.step(a)\n",
    "\n",
    "        s = ns\n",
    "        cum_r += 1\n",
    "        if done:\n",
    "            new_dqn_cum_rs.append(cum_r)\n",
    "            break\n",
    "plt.hist(new_dqn_cum_rs, density=True, label='offline')\n",
    "plt.legend()"
   ]
  },
  {
   "cell_type": "code",
   "execution_count": 26,
   "metadata": {},
   "outputs": [
    {
     "name": "stdout",
     "output_type": "stream",
     "text": [
      "fitting [0] / [1000]\n"
     ]
    },
    {
     "data": {
      "text/plain": [
       "<matplotlib.legend.Legend at 0x1d1845a0888>"
      ]
     },
     "execution_count": 26,
     "metadata": {},
     "output_type": "execute_result"
    },
    {
     "data": {
      "image/png": "[encoded data removed]",
      "text/plain": [
       "<Figure size 432x216 with 2 Axes>"
      ]
     },
     "metadata": {
      "needs_background": "light"
     },
     "output_type": "display_data"
    }
   ],
   "source": [
    "# qnet = MLP(4, 2, \n",
    "#            num_neurons=[128,128], \n",
    "#            out_act='ReLU')\n",
    "# state =4차원 action 2차원\n",
    "qnet = MLP(4, 2, num_neurons=[128])\n",
    "qnet_target = MLP(4, 2, num_neurons=[128])\n",
    "\n",
    "#오프라인데이터셋에 대해 탐색한 explore을 저장하지는 않기때문에 0으로 설정하고 online tuning할때 올려서 epslilon 설정\n",
    "epsilon = float(0.0)\n",
    "gamma = 0.9\n",
    "lr = 0.001\n",
    "action_dim = 1\n",
    "\n",
    "# q_net target을 어찌설정할지 모르겠음\n",
    "new_dqn_agent = DQN(state_dim=qnet,action_dim=action_dim,qnet=qnet,qnet_target=qnet_target,lr=lr,epsilon=epsilon,gamma=gamma,)\n",
    "\n",
    "batch_size = 1024\n",
    "n_updates = 1000\n",
    "fit_device = 'cuda' if torch.cuda.is_available() else 'cpu'\n",
    "\n",
    "new_dqn_agent.to(fit_device)\n",
    "losses = []\n",
    "for i in range(n_updates):\n",
    "    if i % 1000 == 0:\n",
    "        print(\"fitting [{}] / [{}]\".format(i, n_updates))\n",
    "    sampled_exps = memory.sample(batch_size)\n",
    "    s, a, r, ns, done = prepare_training_inputs(sampled_exps, \n",
    "                                                device=fit_device)    \n",
    "    loss = new_dqn_agent.update(s,a,r,ns,done)\n",
    "    losses.append(loss.detach())\n",
    "    \n",
    "    \n",
    "          \n",
    "new_dqn_agent.to('cpu')\n",
    "fig, axes = plt.subplots(1,2, figsize=(6,3))\n",
    "axes[0].plot(losses, label='loss')\n",
    "axes[0].legend()\n",
    "fig.tight_layout()\n",
    "\n",
    "\n",
    "num_runs = 500\n",
    "new_dqn_cum_rs = []\n",
    "for n_epi in range(num_runs):\n",
    "    s = env.reset()\n",
    "    cum_r = 0\n",
    "\n",
    "    # 몇초 버텼나\n",
    "    while True:\n",
    "        s = torch.tensor((s,), dtype=torch.float)\n",
    "        # a = int(new_dqn_agent.get_action(s).squeeze())\n",
    "        a = new_dqn_agent.get_action(s)\n",
    "        ns, r, done, info = env.step(a)\n",
    "\n",
    "        s = ns\n",
    "        cum_r += 1\n",
    "        if done:\n",
    "            new_dqn_cum_rs.append(cum_r)\n",
    "            break\n",
    "plt.hist(new_dqn_cum_rs, density=True, label='offline')\n",
    "plt.legend()"
   ]
  },
  {
   "cell_type": "code",
   "execution_count": 27,
   "metadata": {},
   "outputs": [
    {
     "name": "stdout",
     "output_type": "stream",
     "text": [
      "fitting [0] / [1000]\n"
     ]
    },
    {
     "data": {
      "text/plain": [
       "<matplotlib.legend.Legend at 0x1d184696988>"
      ]
     },
     "execution_count": 27,
     "metadata": {},
     "output_type": "execute_result"
    },
    {
     "data": {
      "image/png": "[encoded data removed]",
      "text/plain": [
       "<Figure size 432x216 with 2 Axes>"
      ]
     },
     "metadata": {
      "needs_background": "light"
     },
     "output_type": "display_data"
    }
   ],
   "source": [
    "# qnet = MLP(4, 2, \n",
    "#            num_neurons=[128,128], \n",
    "#            out_act='ReLU')\n",
    "# state =4차원 action 2차원\n",
    "qnet = MLP(4, 2, num_neurons=[128])\n",
    "qnet_target = MLP(4, 2, num_neurons=[128])\n",
    "\n",
    "#오프라인데이터셋에 대해 탐색한 explore을 저장하지는 않기때문에 0으로 설정하고 online tuning할때 올려서 epslilon 설정\n",
    "epsilon = float(0.0)\n",
    "gamma = 0.9\n",
    "lr = 0.001\n",
    "action_dim = 1\n",
    "\n",
    "# q_net target을 어찌설정할지 모르겠음\n",
    "new_dqn_agent = DQN(state_dim=qnet,action_dim=action_dim,qnet=qnet,qnet_target=qnet_target,lr=lr,epsilon=epsilon,gamma=gamma,)\n",
    "\n",
    "batch_size = 1024\n",
    "n_updates = 1000\n",
    "fit_device = 'cuda' if torch.cuda.is_available() else 'cpu'\n",
    "\n",
    "new_dqn_agent.to(fit_device)\n",
    "losses = []\n",
    "for i in range(n_updates):\n",
    "    if i % 1000 == 0:\n",
    "        print(\"fitting [{}] / [{}]\".format(i, n_updates))\n",
    "    sampled_exps = memory.sample(batch_size)\n",
    "    s, a, r, ns, done = prepare_training_inputs(sampled_exps, \n",
    "                                                device=fit_device)    \n",
    "    loss = new_dqn_agent.update(s,a,r,ns,done)\n",
    "    losses.append(loss.detach())\n",
    "    \n",
    "    \n",
    "          \n",
    "new_dqn_agent.to('cpu')\n",
    "fig, axes = plt.subplots(1,2, figsize=(6,3))\n",
    "axes[0].plot(losses, label='loss')\n",
    "axes[0].legend()\n",
    "fig.tight_layout()\n",
    "\n",
    "\n",
    "num_runs = 500\n",
    "new_dqn_cum_rs = []\n",
    "for n_epi in range(num_runs):\n",
    "    s = env.reset()\n",
    "    cum_r = 0\n",
    "\n",
    "    # 몇초 버텼나\n",
    "    while True:\n",
    "        s = torch.tensor((s,), dtype=torch.float)\n",
    "        # a = int(new_dqn_agent.get_action(s).squeeze())\n",
    "        a = new_dqn_agent.get_action(s)\n",
    "        ns, r, done, info = env.step(a)\n",
    "\n",
    "        s = ns\n",
    "        cum_r += 1\n",
    "        if done:\n",
    "            new_dqn_cum_rs.append(cum_r)\n",
    "            break\n",
    "plt.hist(new_dqn_cum_rs, density=True, label='offline')\n",
    "plt.legend()"
   ]
  },
  {
   "cell_type": "code",
   "execution_count": 28,
   "metadata": {},
   "outputs": [
    {
     "name": "stdout",
     "output_type": "stream",
     "text": [
      "fitting [0] / [1000]\n"
     ]
    },
    {
     "data": {
      "text/plain": [
       "<matplotlib.legend.Legend at 0x1d184589e48>"
      ]
     },
     "execution_count": 28,
     "metadata": {},
     "output_type": "execute_result"
    },
    {
     "data": {
      "image/png": "[encoded data removed]",
      "text/plain": [
       "<Figure size 432x216 with 2 Axes>"
      ]
     },
     "metadata": {
      "needs_background": "light"
     },
     "output_type": "display_data"
    }
   ],
   "source": [
    "# qnet = MLP(4, 2, \n",
    "#            num_neurons=[128,128], \n",
    "#            out_act='ReLU')\n",
    "# state =4차원 action 2차원\n",
    "qnet = MLP(4, 2, num_neurons=[128])\n",
    "qnet_target = MLP(4, 2, num_neurons=[128])\n",
    "\n",
    "#오프라인데이터셋에 대해 탐색한 explore을 저장하지는 않기때문에 0으로 설정하고 online tuning할때 올려서 epslilon 설정\n",
    "epsilon = float(0.0)\n",
    "gamma = 0.9\n",
    "lr = 0.001\n",
    "action_dim = 1\n",
    "\n",
    "# q_net target을 어찌설정할지 모르겠음\n",
    "new_dqn_agent = DQN(state_dim=qnet,action_dim=action_dim,qnet=qnet,qnet_target=qnet_target,lr=lr,epsilon=epsilon,gamma=gamma,)\n",
    "\n",
    "batch_size = 1024\n",
    "n_updates = 1000\n",
    "fit_device = 'cuda' if torch.cuda.is_available() else 'cpu'\n",
    "\n",
    "new_dqn_agent.to(fit_device)\n",
    "losses = []\n",
    "for i in range(n_updates):\n",
    "    if i % 1000 == 0:\n",
    "        print(\"fitting [{}] / [{}]\".format(i, n_updates))\n",
    "    sampled_exps = memory.sample(batch_size)\n",
    "    s, a, r, ns, done = prepare_training_inputs(sampled_exps, \n",
    "                                                device=fit_device)    \n",
    "    loss = new_dqn_agent.update(s,a,r,ns,done)\n",
    "    losses.append(loss.detach())\n",
    "    \n",
    "    \n",
    "          \n",
    "new_dqn_agent.to('cpu')\n",
    "fig, axes = plt.subplots(1,2, figsize=(6,3))\n",
    "axes[0].plot(losses, label='loss')\n",
    "axes[0].legend()\n",
    "fig.tight_layout()\n",
    "\n",
    "\n",
    "num_runs = 500\n",
    "new_dqn_cum_rs = []\n",
    "for n_epi in range(num_runs):\n",
    "    s = env.reset()\n",
    "    cum_r = 0\n",
    "\n",
    "    # 몇초 버텼나\n",
    "    while True:\n",
    "        s = torch.tensor((s,), dtype=torch.float)\n",
    "        # a = int(new_dqn_agent.get_action(s).squeeze())\n",
    "        a = new_dqn_agent.get_action(s)\n",
    "        ns, r, done, info = env.step(a)\n",
    "\n",
    "        s = ns\n",
    "        cum_r += 1\n",
    "        if done:\n",
    "            new_dqn_cum_rs.append(cum_r)\n",
    "            break\n",
    "plt.hist(new_dqn_cum_rs, density=True, label='offline')\n",
    "plt.legend()"
   ]
  },
  {
   "cell_type": "code",
   "execution_count": 29,
   "metadata": {},
   "outputs": [
    {
     "name": "stdout",
     "output_type": "stream",
     "text": [
      "fitting [0] / [1000]\n"
     ]
    },
    {
     "data": {
      "text/plain": [
       "<matplotlib.legend.Legend at 0x1d1846e1188>"
      ]
     },
     "execution_count": 29,
     "metadata": {},
     "output_type": "execute_result"
    },
    {
     "data": {
      "image/png": "[encoded data removed]",
      "text/plain": [
       "<Figure size 432x216 with 2 Axes>"
      ]
     },
     "metadata": {
      "needs_background": "light"
     },
     "output_type": "display_data"
    }
   ],
   "source": [
    "# qnet = MLP(4, 2, \n",
    "#            num_neurons=[128,128], \n",
    "#            out_act='ReLU')\n",
    "# state =4차원 action 2차원\n",
    "qnet = MLP(4, 2, num_neurons=[128])\n",
    "qnet_target = MLP(4, 2, num_neurons=[128])\n",
    "\n",
    "#오프라인데이터셋에 대해 탐색한 explore을 저장하지는 않기때문에 0으로 설정하고 online tuning할때 올려서 epslilon 설정\n",
    "epsilon = float(0.0)\n",
    "gamma = 0.9\n",
    "lr = 0.001\n",
    "action_dim = 1\n",
    "\n",
    "# q_net target을 어찌설정할지 모르겠음\n",
    "new_dqn_agent = DQN(state_dim=qnet,action_dim=action_dim,qnet=qnet,qnet_target=qnet_target,lr=lr,epsilon=epsilon,gamma=gamma,)\n",
    "\n",
    "batch_size = 1024\n",
    "n_updates = 1000\n",
    "fit_device = 'cuda' if torch.cuda.is_available() else 'cpu'\n",
    "\n",
    "new_dqn_agent.to(fit_device)\n",
    "losses = []\n",
    "for i in range(n_updates):\n",
    "    if i % 1000 == 0:\n",
    "        print(\"fitting [{}] / [{}]\".format(i, n_updates))\n",
    "    sampled_exps = memory.sample(batch_size)\n",
    "    s, a, r, ns, done = prepare_training_inputs(sampled_exps, \n",
    "                                                device=fit_device)    \n",
    "    loss = new_dqn_agent.update(s,a,r,ns,done)\n",
    "    losses.append(loss.detach())\n",
    "    \n",
    "    \n",
    "          \n",
    "new_dqn_agent.to('cpu')\n",
    "fig, axes = plt.subplots(1,2, figsize=(6,3))\n",
    "axes[0].plot(losses, label='loss')\n",
    "axes[0].legend()\n",
    "fig.tight_layout()\n",
    "\n",
    "\n",
    "num_runs = 500\n",
    "new_dqn_cum_rs = []\n",
    "for n_epi in range(num_runs):\n",
    "    s = env.reset()\n",
    "    cum_r = 0\n",
    "\n",
    "    # 몇초 버텼나\n",
    "    while True:\n",
    "        s = torch.tensor((s,), dtype=torch.float)\n",
    "        # a = int(new_dqn_agent.get_action(s).squeeze())\n",
    "        a = new_dqn_agent.get_action(s)\n",
    "        ns, r, done, info = env.step(a)\n",
    "\n",
    "        s = ns\n",
    "        cum_r += 1\n",
    "        if done:\n",
    "            new_dqn_cum_rs.append(cum_r)\n",
    "            break\n",
    "plt.hist(new_dqn_cum_rs, density=True, label='offline')\n",
    "plt.legend()"
   ]
  },
  {
   "cell_type": "code",
   "execution_count": 30,
   "metadata": {},
   "outputs": [
    {
     "name": "stdout",
     "output_type": "stream",
     "text": [
      "fitting [0] / [100]\n"
     ]
    },
    {
     "data": {
      "text/plain": [
       "<matplotlib.legend.Legend at 0x1d184888a88>"
      ]
     },
     "execution_count": 30,
     "metadata": {},
     "output_type": "execute_result"
    },
    {
     "data": {
      "image/png": "[encoded data removed]",
      "text/plain": [
       "<Figure size 432x216 with 2 Axes>"
      ]
     },
     "metadata": {
      "needs_background": "light"
     },
     "output_type": "display_data"
    }
   ],
   "source": [
    "# qnet = MLP(4, 2, \n",
    "#            num_neurons=[128,128], \n",
    "#            out_act='ReLU')\n",
    "# state =4차원 action 2차원\n",
    "qnet = MLP(4, 2, num_neurons=[128])\n",
    "qnet_target = MLP(4, 2, num_neurons=[128])\n",
    "\n",
    "#오프라인데이터셋에 대해 탐색한 explore을 저장하지는 않기때문에 0으로 설정하고 online tuning할때 올려서 epslilon 설정\n",
    "epsilon = float(0.0)\n",
    "gamma = 0.9\n",
    "lr = 0.001\n",
    "action_dim = 1\n",
    "\n",
    "# q_net target을 어찌설정할지 모르겠음\n",
    "new_dqn_agent = DQN(state_dim=qnet,action_dim=action_dim,qnet=qnet,qnet_target=qnet_target,lr=lr,epsilon=epsilon,gamma=gamma,)\n",
    "\n",
    "batch_size = 1024\n",
    "n_updates = 100\n",
    "fit_device = 'cuda' if torch.cuda.is_available() else 'cpu'\n",
    "\n",
    "new_dqn_agent.to(fit_device)\n",
    "losses = []\n",
    "for i in range(n_updates):\n",
    "    if i % 1000 == 0:\n",
    "        print(\"fitting [{}] / [{}]\".format(i, n_updates))\n",
    "    sampled_exps = memory.sample(batch_size)\n",
    "    s, a, r, ns, done = prepare_training_inputs(sampled_exps, \n",
    "                                                device=fit_device)    \n",
    "    loss = new_dqn_agent.update(s,a,r,ns,done)\n",
    "    losses.append(loss.detach())\n",
    "    \n",
    "    \n",
    "          \n",
    "new_dqn_agent.to('cpu')\n",
    "fig, axes = plt.subplots(1,2, figsize=(6,3))\n",
    "axes[0].plot(losses, label='loss')\n",
    "axes[0].legend()\n",
    "fig.tight_layout()\n",
    "\n",
    "\n",
    "num_runs = 500\n",
    "new_dqn_cum_rs = []\n",
    "for n_epi in range(num_runs):\n",
    "    s = env.reset()\n",
    "    cum_r = 0\n",
    "\n",
    "    # 몇초 버텼나\n",
    "    while True:\n",
    "        s = torch.tensor((s,), dtype=torch.float)\n",
    "        # a = int(new_dqn_agent.get_action(s).squeeze())\n",
    "        a = new_dqn_agent.get_action(s)\n",
    "        ns, r, done, info = env.step(a)\n",
    "\n",
    "        s = ns\n",
    "        cum_r += 1\n",
    "        if done:\n",
    "            new_dqn_cum_rs.append(cum_r)\n",
    "            break\n",
    "plt.hist(new_dqn_cum_rs, density=True, label='offline')\n",
    "plt.legend()"
   ]
  },
  {
   "cell_type": "code",
   "execution_count": 31,
   "metadata": {},
   "outputs": [
    {
     "name": "stdout",
     "output_type": "stream",
     "text": [
      "fitting [0] / [100]\n"
     ]
    },
    {
     "data": {
      "text/plain": [
       "<matplotlib.legend.Legend at 0x1d184648c88>"
      ]
     },
     "execution_count": 31,
     "metadata": {},
     "output_type": "execute_result"
    },
    {
     "data": {
      "image/png": "[encoded data removed]",
      "text/plain": [
       "<Figure size 432x216 with 2 Axes>"
      ]
     },
     "metadata": {
      "needs_background": "light"
     },
     "output_type": "display_data"
    }
   ],
   "source": [
    "# qnet = MLP(4, 2, \n",
    "#            num_neurons=[128,128], \n",
    "#            out_act='ReLU')\n",
    "# state =4차원 action 2차원\n",
    "qnet = MLP(4, 2, num_neurons=[128])\n",
    "qnet_target = MLP(4, 2, num_neurons=[128])\n",
    "\n",
    "#오프라인데이터셋에 대해 탐색한 explore을 저장하지는 않기때문에 0으로 설정하고 online tuning할때 올려서 epslilon 설정\n",
    "epsilon = float(0.0)\n",
    "gamma = 0.9\n",
    "lr = 0.001\n",
    "action_dim = 1\n",
    "\n",
    "# q_net target을 어찌설정할지 모르겠음\n",
    "new_dqn_agent = DQN(state_dim=qnet,action_dim=action_dim,qnet=qnet,qnet_target=qnet_target,lr=lr,epsilon=epsilon,gamma=gamma,)\n",
    "\n",
    "batch_size = 1024\n",
    "n_updates = 100\n",
    "fit_device = 'cuda' if torch.cuda.is_available() else 'cpu'\n",
    "\n",
    "new_dqn_agent.to(fit_device)\n",
    "losses = []\n",
    "for i in range(n_updates):\n",
    "    if i % 1000 == 0:\n",
    "        print(\"fitting [{}] / [{}]\".format(i, n_updates))\n",
    "    sampled_exps = memory.sample(batch_size)\n",
    "    s, a, r, ns, done = prepare_training_inputs(sampled_exps, \n",
    "                                                device=fit_device)    \n",
    "    loss = new_dqn_agent.update(s,a,r,ns,done)\n",
    "    losses.append(loss.detach())\n",
    "    \n",
    "    \n",
    "          \n",
    "new_dqn_agent.to('cpu')\n",
    "fig, axes = plt.subplots(1,2, figsize=(6,3))\n",
    "axes[0].plot(losses, label='loss')\n",
    "axes[0].legend()\n",
    "fig.tight_layout()\n",
    "\n",
    "\n",
    "num_runs = 500\n",
    "new_dqn_cum_rs = []\n",
    "for n_epi in range(num_runs):\n",
    "    s = env.reset()\n",
    "    cum_r = 0\n",
    "\n",
    "    # 몇초 버텼나\n",
    "    while True:\n",
    "        s = torch.tensor((s,), dtype=torch.float)\n",
    "        # a = int(new_dqn_agent.get_action(s).squeeze())\n",
    "        a = new_dqn_agent.get_action(s)\n",
    "        ns, r, done, info = env.step(a)\n",
    "\n",
    "        s = ns\n",
    "        cum_r += 1\n",
    "        if done:\n",
    "            new_dqn_cum_rs.append(cum_r)\n",
    "            break\n",
    "plt.hist(new_dqn_cum_rs, density=True, label='offline')\n",
    "plt.legend()"
   ]
  },
  {
   "cell_type": "code",
   "execution_count": 32,
   "metadata": {},
   "outputs": [
    {
     "name": "stdout",
     "output_type": "stream",
     "text": [
      "fitting [0] / [100]\n"
     ]
    },
    {
     "data": {
      "text/plain": [
       "<matplotlib.legend.Legend at 0x1d1848125c8>"
      ]
     },
     "execution_count": 32,
     "metadata": {},
     "output_type": "execute_result"
    },
    {
     "data": {
      "image/png": "[encoded data removed]",
      "text/plain": [
       "<Figure size 432x216 with 2 Axes>"
      ]
     },
     "metadata": {
      "needs_background": "light"
     },
     "output_type": "display_data"
    }
   ],
   "source": [
    "# qnet = MLP(4, 2, \n",
    "#            num_neurons=[128,128], \n",
    "#            out_act='ReLU')\n",
    "# state =4차원 action 2차원\n",
    "qnet = MLP(4, 2, num_neurons=[128])\n",
    "qnet_target = MLP(4, 2, num_neurons=[128])\n",
    "\n",
    "#오프라인데이터셋에 대해 탐색한 explore을 저장하지는 않기때문에 0으로 설정하고 online tuning할때 올려서 epslilon 설정\n",
    "epsilon = float(0.0)\n",
    "gamma = 0.9\n",
    "lr = 0.001\n",
    "action_dim = 1\n",
    "\n",
    "# q_net target을 어찌설정할지 모르겠음\n",
    "new_dqn_agent = DQN(state_dim=qnet,action_dim=action_dim,qnet=qnet,qnet_target=qnet_target,lr=lr,epsilon=epsilon,gamma=gamma,)\n",
    "\n",
    "batch_size = 1024\n",
    "n_updates = 100\n",
    "fit_device = 'cuda' if torch.cuda.is_available() else 'cpu'\n",
    "\n",
    "new_dqn_agent.to(fit_device)\n",
    "losses = []\n",
    "for i in range(n_updates):\n",
    "    if i % 1000 == 0:\n",
    "        print(\"fitting [{}] / [{}]\".format(i, n_updates))\n",
    "    sampled_exps = memory.sample(batch_size)\n",
    "    s, a, r, ns, done = prepare_training_inputs(sampled_exps, \n",
    "                                                device=fit_device)    \n",
    "    loss = new_dqn_agent.update(s,a,r,ns,done)\n",
    "    losses.append(loss.detach())\n",
    "    \n",
    "    \n",
    "          \n",
    "new_dqn_agent.to('cpu')\n",
    "fig, axes = plt.subplots(1,2, figsize=(6,3))\n",
    "axes[0].plot(losses, label='loss')\n",
    "axes[0].legend()\n",
    "fig.tight_layout()\n",
    "\n",
    "\n",
    "num_runs = 500\n",
    "new_dqn_cum_rs = []\n",
    "for n_epi in range(num_runs):\n",
    "    s = env.reset()\n",
    "    cum_r = 0\n",
    "\n",
    "    # 몇초 버텼나\n",
    "    while True:\n",
    "        s = torch.tensor((s,), dtype=torch.float)\n",
    "        # a = int(new_dqn_agent.get_action(s).squeeze())\n",
    "        a = new_dqn_agent.get_action(s)\n",
    "        ns, r, done, info = env.step(a)\n",
    "\n",
    "        s = ns\n",
    "        cum_r += 1\n",
    "        if done:\n",
    "            new_dqn_cum_rs.append(cum_r)\n",
    "            break\n",
    "plt.hist(new_dqn_cum_rs, density=True, label='offline')\n",
    "plt.legend()"
   ]
  },
  {
   "cell_type": "code",
   "execution_count": 33,
   "metadata": {},
   "outputs": [
    {
     "name": "stdout",
     "output_type": "stream",
     "text": [
      "fitting [0] / [100]\n"
     ]
    },
    {
     "data": {
      "text/plain": [
       "<matplotlib.legend.Legend at 0x1d185d6a8c8>"
      ]
     },
     "execution_count": 33,
     "metadata": {},
     "output_type": "execute_result"
    },
    {
     "data": {
      "image/png": "[encoded data removed]",
      "text/plain": [
       "<Figure size 432x216 with 2 Axes>"
      ]
     },
     "metadata": {
      "needs_background": "light"
     },
     "output_type": "display_data"
    }
   ],
   "source": [
    "# qnet = MLP(4, 2, \n",
    "#            num_neurons=[128,128], \n",
    "#            out_act='ReLU')\n",
    "# state =4차원 action 2차원\n",
    "qnet = MLP(4, 2, num_neurons=[128])\n",
    "qnet_target = MLP(4, 2, num_neurons=[128])\n",
    "\n",
    "#오프라인데이터셋에 대해 탐색한 explore을 저장하지는 않기때문에 0으로 설정하고 online tuning할때 올려서 epslilon 설정\n",
    "epsilon = float(0.0)\n",
    "gamma = 0.9\n",
    "lr = 0.001\n",
    "action_dim = 1\n",
    "\n",
    "# q_net target을 어찌설정할지 모르겠음\n",
    "new_dqn_agent = DQN(state_dim=qnet,action_dim=action_dim,qnet=qnet,qnet_target=qnet_target,lr=lr,epsilon=epsilon,gamma=gamma,)\n",
    "\n",
    "batch_size = 1024\n",
    "n_updates = 100\n",
    "fit_device = 'cuda' if torch.cuda.is_available() else 'cpu'\n",
    "\n",
    "new_dqn_agent.to(fit_device)\n",
    "losses = []\n",
    "for i in range(n_updates):\n",
    "    if i % 1000 == 0:\n",
    "        print(\"fitting [{}] / [{}]\".format(i, n_updates))\n",
    "    sampled_exps = memory.sample(batch_size)\n",
    "    s, a, r, ns, done = prepare_training_inputs(sampled_exps, \n",
    "                                                device=fit_device)    \n",
    "    loss = new_dqn_agent.update(s,a,r,ns,done)\n",
    "    losses.append(loss.detach())\n",
    "    \n",
    "    \n",
    "          \n",
    "new_dqn_agent.to('cpu')\n",
    "fig, axes = plt.subplots(1,2, figsize=(6,3))\n",
    "axes[0].plot(losses, label='loss')\n",
    "axes[0].legend()\n",
    "fig.tight_layout()\n",
    "\n",
    "\n",
    "num_runs = 500\n",
    "new_dqn_cum_rs = []\n",
    "for n_epi in range(num_runs):\n",
    "    s = env.reset()\n",
    "    cum_r = 0\n",
    "\n",
    "    # 몇초 버텼나\n",
    "    while True:\n",
    "        s = torch.tensor((s,), dtype=torch.float)\n",
    "        # a = int(new_dqn_agent.get_action(s).squeeze())\n",
    "        a = new_dqn_agent.get_action(s)\n",
    "        ns, r, done, info = env.step(a)\n",
    "\n",
    "        s = ns\n",
    "        cum_r += 1\n",
    "        if done:\n",
    "            new_dqn_cum_rs.append(cum_r)\n",
    "            break\n",
    "plt.hist(new_dqn_cum_rs, density=True, label='offline')\n",
    "plt.legend()"
   ]
  },
  {
   "cell_type": "code",
   "execution_count": 34,
   "metadata": {},
   "outputs": [
    {
     "name": "stdout",
     "output_type": "stream",
     "text": [
      "fitting [0] / [100]\n"
     ]
    },
    {
     "data": {
      "text/plain": [
       "<matplotlib.legend.Legend at 0x1d185da4708>"
      ]
     },
     "execution_count": 34,
     "metadata": {},
     "output_type": "execute_result"
    },
    {
     "data": {
      "image/png": "[encoded data removed]",
      "text/plain": [
       "<Figure size 432x216 with 2 Axes>"
      ]
     },
     "metadata": {
      "needs_background": "light"
     },
     "output_type": "display_data"
    }
   ],
   "source": [
    "# qnet = MLP(4, 2, \n",
    "#            num_neurons=[128,128], \n",
    "#            out_act='ReLU')\n",
    "# state =4차원 action 2차원\n",
    "qnet = MLP(4, 2, num_neurons=[128])\n",
    "qnet_target = MLP(4, 2, num_neurons=[128])\n",
    "\n",
    "#오프라인데이터셋에 대해 탐색한 explore을 저장하지는 않기때문에 0으로 설정하고 online tuning할때 올려서 epslilon 설정\n",
    "epsilon = float(0.0)\n",
    "gamma = 0.9\n",
    "lr = 0.001\n",
    "action_dim = 1\n",
    "\n",
    "# q_net target을 어찌설정할지 모르겠음\n",
    "new_dqn_agent = DQN(state_dim=qnet,action_dim=action_dim,qnet=qnet,qnet_target=qnet_target,lr=lr,epsilon=epsilon,gamma=gamma,)\n",
    "\n",
    "batch_size = 1024\n",
    "n_updates = 100\n",
    "fit_device = 'cuda' if torch.cuda.is_available() else 'cpu'\n",
    "\n",
    "new_dqn_agent.to(fit_device)\n",
    "losses = []\n",
    "for i in range(n_updates):\n",
    "    if i % 1000 == 0:\n",
    "        print(\"fitting [{}] / [{}]\".format(i, n_updates))\n",
    "    sampled_exps = memory.sample(batch_size)\n",
    "    s, a, r, ns, done = prepare_training_inputs(sampled_exps, \n",
    "                                                device=fit_device)    \n",
    "    loss = new_dqn_agent.update(s,a,r,ns,done)\n",
    "    losses.append(loss.detach())\n",
    "    \n",
    "    \n",
    "          \n",
    "new_dqn_agent.to('cpu')\n",
    "fig, axes = plt.subplots(1,2, figsize=(6,3))\n",
    "axes[0].plot(losses, label='loss')\n",
    "axes[0].legend()\n",
    "fig.tight_layout()\n",
    "\n",
    "\n",
    "num_runs = 500\n",
    "new_dqn_cum_rs = []\n",
    "for n_epi in range(num_runs):\n",
    "    s = env.reset()\n",
    "    cum_r = 0\n",
    "\n",
    "    # 몇초 버텼나\n",
    "    while True:\n",
    "        s = torch.tensor((s,), dtype=torch.float)\n",
    "        # a = int(new_dqn_agent.get_action(s).squeeze())\n",
    "        a = new_dqn_agent.get_action(s)\n",
    "        ns, r, done, info = env.step(a)\n",
    "\n",
    "        s = ns\n",
    "        cum_r += 1\n",
    "        if done:\n",
    "            new_dqn_cum_rs.append(cum_r)\n",
    "            break\n",
    "plt.hist(new_dqn_cum_rs, density=True, label='offline')\n",
    "plt.legend()"
   ]
  },
  {
   "cell_type": "code",
   "execution_count": 35,
   "metadata": {},
   "outputs": [
    {
     "name": "stdout",
     "output_type": "stream",
     "text": [
      "fitting [0] / [100]\n"
     ]
    },
    {
     "data": {
      "text/plain": [
       "<matplotlib.legend.Legend at 0x1d185faa4c8>"
      ]
     },
     "execution_count": 35,
     "metadata": {},
     "output_type": "execute_result"
    },
    {
     "data": {
      "image/png": "[encoded data removed]",
      "text/plain": [
       "<Figure size 432x216 with 2 Axes>"
      ]
     },
     "metadata": {
      "needs_background": "light"
     },
     "output_type": "display_data"
    }
   ],
   "source": [
    "# qnet = MLP(4, 2, \n",
    "#            num_neurons=[128,128], \n",
    "#            out_act='ReLU')\n",
    "# state =4차원 action 2차원\n",
    "qnet = MLP(4, 2, num_neurons=[128])\n",
    "qnet_target = MLP(4, 2, num_neurons=[128])\n",
    "\n",
    "#오프라인데이터셋에 대해 탐색한 explore을 저장하지는 않기때문에 0으로 설정하고 online tuning할때 올려서 epslilon 설정\n",
    "epsilon = float(0.0)\n",
    "gamma = 0.9\n",
    "lr = 0.001\n",
    "action_dim = 1\n",
    "\n",
    "# q_net target을 어찌설정할지 모르겠음\n",
    "new_dqn_agent = DQN(state_dim=qnet,action_dim=action_dim,qnet=qnet,qnet_target=qnet_target,lr=lr,epsilon=epsilon,gamma=gamma,)\n",
    "\n",
    "batch_size = 1024\n",
    "n_updates = 100\n",
    "fit_device = 'cuda' if torch.cuda.is_available() else 'cpu'\n",
    "\n",
    "new_dqn_agent.to(fit_device)\n",
    "losses = []\n",
    "for i in range(n_updates):\n",
    "    if i % 1000 == 0:\n",
    "        print(\"fitting [{}] / [{}]\".format(i, n_updates))\n",
    "    sampled_exps = memory.sample(batch_size)\n",
    "    s, a, r, ns, done = prepare_training_inputs(sampled_exps, \n",
    "                                                device=fit_device)    \n",
    "    loss = new_dqn_agent.update(s,a,r,ns,done)\n",
    "    losses.append(loss.detach())\n",
    "    \n",
    "    \n",
    "          \n",
    "new_dqn_agent.to('cpu')\n",
    "fig, axes = plt.subplots(1,2, figsize=(6,3))\n",
    "axes[0].plot(losses, label='loss')\n",
    "axes[0].legend()\n",
    "fig.tight_layout()\n",
    "\n",
    "\n",
    "num_runs = 500\n",
    "new_dqn_cum_rs = []\n",
    "for n_epi in range(num_runs):\n",
    "    s = env.reset()\n",
    "    cum_r = 0\n",
    "\n",
    "    # 몇초 버텼나\n",
    "    while True:\n",
    "        s = torch.tensor((s,), dtype=torch.float)\n",
    "        # a = int(new_dqn_agent.get_action(s).squeeze())\n",
    "        a = new_dqn_agent.get_action(s)\n",
    "        ns, r, done, info = env.step(a)\n",
    "\n",
    "        s = ns\n",
    "        cum_r += 1\n",
    "        if done:\n",
    "            new_dqn_cum_rs.append(cum_r)\n",
    "            break\n",
    "plt.hist(new_dqn_cum_rs, density=True, label='offline')\n",
    "plt.legend()"
   ]
  },
  {
   "cell_type": "code",
   "execution_count": 36,
   "metadata": {},
   "outputs": [
    {
     "name": "stdout",
     "output_type": "stream",
     "text": [
      "fitting [0] / [100]\n"
     ]
    },
    {
     "data": {
      "text/plain": [
       "<matplotlib.legend.Legend at 0x1d185fa8a48>"
      ]
     },
     "execution_count": 36,
     "metadata": {},
     "output_type": "execute_result"
    },
    {
     "data": {
      "image/png": "[encoded data removed]",
      "text/plain": [
       "<Figure size 432x216 with 2 Axes>"
      ]
     },
     "metadata": {
      "needs_background": "light"
     },
     "output_type": "display_data"
    }
   ],
   "source": [
    "# qnet = MLP(4, 2, \n",
    "#            num_neurons=[128,128], \n",
    "#            out_act='ReLU')\n",
    "# state =4차원 action 2차원\n",
    "qnet = MLP(4, 2, num_neurons=[128])\n",
    "qnet_target = MLP(4, 2, num_neurons=[128])\n",
    "\n",
    "#오프라인데이터셋에 대해 탐색한 explore을 저장하지는 않기때문에 0으로 설정하고 online tuning할때 올려서 epslilon 설정\n",
    "epsilon = float(0.0)\n",
    "gamma = 0.9\n",
    "lr = 0.001\n",
    "action_dim = 1\n",
    "\n",
    "# q_net target을 어찌설정할지 모르겠음\n",
    "new_dqn_agent = DQN(state_dim=qnet,action_dim=action_dim,qnet=qnet,qnet_target=qnet_target,lr=lr,epsilon=epsilon,gamma=gamma,)\n",
    "\n",
    "batch_size = 1024\n",
    "n_updates = 100\n",
    "fit_device = 'cuda' if torch.cuda.is_available() else 'cpu'\n",
    "\n",
    "new_dqn_agent.to(fit_device)\n",
    "losses = []\n",
    "for i in range(n_updates):\n",
    "    if i % 1000 == 0:\n",
    "        print(\"fitting [{}] / [{}]\".format(i, n_updates))\n",
    "    sampled_exps = memory.sample(batch_size)\n",
    "    s, a, r, ns, done = prepare_training_inputs(sampled_exps, \n",
    "                                                device=fit_device)    \n",
    "    loss = new_dqn_agent.update(s,a,r,ns,done)\n",
    "    losses.append(loss.detach())\n",
    "    \n",
    "    \n",
    "          \n",
    "new_dqn_agent.to('cpu')\n",
    "fig, axes = plt.subplots(1,2, figsize=(6,3))\n",
    "axes[0].plot(losses, label='loss')\n",
    "axes[0].legend()\n",
    "fig.tight_layout()\n",
    "\n",
    "\n",
    "num_runs = 500\n",
    "new_dqn_cum_rs = []\n",
    "for n_epi in range(num_runs):\n",
    "    s = env.reset()\n",
    "    cum_r = 0\n",
    "\n",
    "    # 몇초 버텼나\n",
    "    while True:\n",
    "        s = torch.tensor((s,), dtype=torch.float)\n",
    "        # a = int(new_dqn_agent.get_action(s).squeeze())\n",
    "        a = new_dqn_agent.get_action(s)\n",
    "        ns, r, done, info = env.step(a)\n",
    "\n",
    "        s = ns\n",
    "        cum_r += 1\n",
    "        if done:\n",
    "            new_dqn_cum_rs.append(cum_r)\n",
    "            break\n",
    "plt.hist(new_dqn_cum_rs, density=True, label='offline')\n",
    "plt.legend()"
   ]
  },
  {
   "cell_type": "code",
   "execution_count": 37,
   "metadata": {},
   "outputs": [
    {
     "name": "stdout",
     "output_type": "stream",
     "text": [
      "fitting [0] / [100]\n"
     ]
    },
    {
     "data": {
      "text/plain": [
       "<matplotlib.legend.Legend at 0x1d1860aed48>"
      ]
     },
     "execution_count": 37,
     "metadata": {},
     "output_type": "execute_result"
    },
    {
     "data": {
      "image/png": "[encoded data removed]",
      "text/plain": [
       "<Figure size 432x216 with 2 Axes>"
      ]
     },
     "metadata": {
      "needs_background": "light"
     },
     "output_type": "display_data"
    }
   ],
   "source": [
    "# qnet = MLP(4, 2, \n",
    "#            num_neurons=[128,128], \n",
    "#            out_act='ReLU')\n",
    "# state =4차원 action 2차원\n",
    "qnet = MLP(4, 2, num_neurons=[128])\n",
    "qnet_target = MLP(4, 2, num_neurons=[128])\n",
    "\n",
    "#오프라인데이터셋에 대해 탐색한 explore을 저장하지는 않기때문에 0으로 설정하고 online tuning할때 올려서 epslilon 설정\n",
    "epsilon = float(0.0)\n",
    "gamma = 0.9\n",
    "lr = 0.001\n",
    "action_dim = 1\n",
    "\n",
    "# q_net target을 어찌설정할지 모르겠음\n",
    "new_dqn_agent = DQN(state_dim=qnet,action_dim=action_dim,qnet=qnet,qnet_target=qnet_target,lr=lr,epsilon=epsilon,gamma=gamma,)\n",
    "\n",
    "batch_size = 1024\n",
    "n_updates = 100\n",
    "fit_device = 'cuda' if torch.cuda.is_available() else 'cpu'\n",
    "\n",
    "new_dqn_agent.to(fit_device)\n",
    "losses = []\n",
    "for i in range(n_updates):\n",
    "    if i % 1000 == 0:\n",
    "        print(\"fitting [{}] / [{}]\".format(i, n_updates))\n",
    "    sampled_exps = memory.sample(batch_size)\n",
    "    s, a, r, ns, done = prepare_training_inputs(sampled_exps, \n",
    "                                                device=fit_device)    \n",
    "    loss = new_dqn_agent.update(s,a,r,ns,done)\n",
    "    losses.append(loss.detach())\n",
    "    \n",
    "    \n",
    "          \n",
    "new_dqn_agent.to('cpu')\n",
    "fig, axes = plt.subplots(1,2, figsize=(6,3))\n",
    "axes[0].plot(losses, label='loss')\n",
    "axes[0].legend()\n",
    "fig.tight_layout()\n",
    "\n",
    "\n",
    "num_runs = 500\n",
    "new_dqn_cum_rs = []\n",
    "for n_epi in range(num_runs):\n",
    "    s = env.reset()\n",
    "    cum_r = 0\n",
    "\n",
    "    # 몇초 버텼나\n",
    "    while True:\n",
    "        s = torch.tensor((s,), dtype=torch.float)\n",
    "        # a = int(new_dqn_agent.get_action(s).squeeze())\n",
    "        a = new_dqn_agent.get_action(s)\n",
    "        ns, r, done, info = env.step(a)\n",
    "\n",
    "        s = ns\n",
    "        cum_r += 1\n",
    "        if done:\n",
    "            new_dqn_cum_rs.append(cum_r)\n",
    "            break\n",
    "plt.hist(new_dqn_cum_rs, density=True, label='offline')\n",
    "plt.legend()"
   ]
  },
  {
   "cell_type": "code",
   "execution_count": 38,
   "metadata": {},
   "outputs": [
    {
     "name": "stdout",
     "output_type": "stream",
     "text": [
      "fitting [0] / [100]\n"
     ]
    },
    {
     "data": {
      "text/plain": [
       "<matplotlib.legend.Legend at 0x1d185ffa388>"
      ]
     },
     "execution_count": 38,
     "metadata": {},
     "output_type": "execute_result"
    },
    {
     "data": {
      "image/png": "[encoded data removed]",
      "text/plain": [
       "<Figure size 432x216 with 2 Axes>"
      ]
     },
     "metadata": {
      "needs_background": "light"
     },
     "output_type": "display_data"
    }
   ],
   "source": [
    "# qnet = MLP(4, 2, \n",
    "#            num_neurons=[128,128], \n",
    "#            out_act='ReLU')\n",
    "# state =4차원 action 2차원\n",
    "qnet = MLP(4, 2, num_neurons=[128])\n",
    "qnet_target = MLP(4, 2, num_neurons=[128])\n",
    "\n",
    "#오프라인데이터셋에 대해 탐색한 explore을 저장하지는 않기때문에 0으로 설정하고 online tuning할때 올려서 epslilon 설정\n",
    "epsilon = float(0.0)\n",
    "gamma = 0.9\n",
    "lr = 0.001\n",
    "action_dim = 1\n",
    "\n",
    "# q_net target을 어찌설정할지 모르겠음\n",
    "new_dqn_agent = DQN(state_dim=qnet,action_dim=action_dim,qnet=qnet,qnet_target=qnet_target,lr=lr,epsilon=epsilon,gamma=gamma,)\n",
    "\n",
    "batch_size = 1024\n",
    "n_updates = 100\n",
    "fit_device = 'cuda' if torch.cuda.is_available() else 'cpu'\n",
    "\n",
    "new_dqn_agent.to(fit_device)\n",
    "losses = []\n",
    "for i in range(n_updates):\n",
    "    if i % 1000 == 0:\n",
    "        print(\"fitting [{}] / [{}]\".format(i, n_updates))\n",
    "    sampled_exps = memory.sample(batch_size)\n",
    "    s, a, r, ns, done = prepare_training_inputs(sampled_exps, \n",
    "                                                device=fit_device)    \n",
    "    loss = new_dqn_agent.update(s,a,r,ns,done)\n",
    "    losses.append(loss.detach())\n",
    "    \n",
    "    \n",
    "          \n",
    "new_dqn_agent.to('cpu')\n",
    "fig, axes = plt.subplots(1,2, figsize=(6,3))\n",
    "axes[0].plot(losses, label='loss')\n",
    "axes[0].legend()\n",
    "fig.tight_layout()\n",
    "\n",
    "\n",
    "num_runs = 500\n",
    "new_dqn_cum_rs = []\n",
    "for n_epi in range(num_runs):\n",
    "    s = env.reset()\n",
    "    cum_r = 0\n",
    "\n",
    "    # 몇초 버텼나\n",
    "    while True:\n",
    "        s = torch.tensor((s,), dtype=torch.float)\n",
    "        # a = int(new_dqn_agent.get_action(s).squeeze())\n",
    "        a = new_dqn_agent.get_action(s)\n",
    "        ns, r, done, info = env.step(a)\n",
    "\n",
    "        s = ns\n",
    "        cum_r += 1\n",
    "        if done:\n",
    "            new_dqn_cum_rs.append(cum_r)\n",
    "            break\n",
    "plt.hist(new_dqn_cum_rs, density=True, label='offline')\n",
    "plt.legend()"
   ]
  },
  {
   "cell_type": "code",
   "execution_count": 39,
   "metadata": {},
   "outputs": [
    {
     "name": "stdout",
     "output_type": "stream",
     "text": [
      "fitting [0] / [100]\n"
     ]
    },
    {
     "data": {
      "text/plain": [
       "<matplotlib.legend.Legend at 0x1d1862c1d48>"
      ]
     },
     "execution_count": 39,
     "metadata": {},
     "output_type": "execute_result"
    },
    {
     "data": {
      "image/png": "[encoded data removed]",
      "text/plain": [
       "<Figure size 432x216 with 2 Axes>"
      ]
     },
     "metadata": {
      "needs_background": "light"
     },
     "output_type": "display_data"
    }
   ],
   "source": [
    "# qnet = MLP(4, 2, \n",
    "#            num_neurons=[128,128], \n",
    "#            out_act='ReLU')\n",
    "# state =4차원 action 2차원\n",
    "qnet = MLP(4, 2, num_neurons=[128])\n",
    "qnet_target = MLP(4, 2, num_neurons=[128])\n",
    "\n",
    "#오프라인데이터셋에 대해 탐색한 explore을 저장하지는 않기때문에 0으로 설정하고 online tuning할때 올려서 epslilon 설정\n",
    "epsilon = float(0.0)\n",
    "gamma = 0.9\n",
    "lr = 0.001\n",
    "action_dim = 1\n",
    "\n",
    "# q_net target을 어찌설정할지 모르겠음\n",
    "new_dqn_agent = DQN(state_dim=qnet,action_dim=action_dim,qnet=qnet,qnet_target=qnet_target,lr=lr,epsilon=epsilon,gamma=gamma,)\n",
    "\n",
    "batch_size = 1024\n",
    "n_updates = 100\n",
    "fit_device = 'cuda' if torch.cuda.is_available() else 'cpu'\n",
    "\n",
    "new_dqn_agent.to(fit_device)\n",
    "losses = []\n",
    "for i in range(n_updates):\n",
    "    if i % 1000 == 0:\n",
    "        print(\"fitting [{}] / [{}]\".format(i, n_updates))\n",
    "    sampled_exps = memory.sample(batch_size)\n",
    "    s, a, r, ns, done = prepare_training_inputs(sampled_exps, \n",
    "                                                device=fit_device)    \n",
    "    loss = new_dqn_agent.update(s,a,r,ns,done)\n",
    "    losses.append(loss.detach())\n",
    "    \n",
    "    \n",
    "          \n",
    "new_dqn_agent.to('cpu')\n",
    "fig, axes = plt.subplots(1,2, figsize=(6,3))\n",
    "axes[0].plot(losses, label='loss')\n",
    "axes[0].legend()\n",
    "fig.tight_layout()\n",
    "\n",
    "\n",
    "num_runs = 500\n",
    "new_dqn_cum_rs = []\n",
    "for n_epi in range(num_runs):\n",
    "    s = env.reset()\n",
    "    cum_r = 0\n",
    "\n",
    "    # 몇초 버텼나\n",
    "    while True:\n",
    "        s = torch.tensor((s,), dtype=torch.float)\n",
    "        # a = int(new_dqn_agent.get_action(s).squeeze())\n",
    "        a = new_dqn_agent.get_action(s)\n",
    "        ns, r, done, info = env.step(a)\n",
    "\n",
    "        s = ns\n",
    "        cum_r += 1\n",
    "        if done:\n",
    "            new_dqn_cum_rs.append(cum_r)\n",
    "            break\n",
    "plt.hist(new_dqn_cum_rs, density=True, label='offline')\n",
    "plt.legend()"
   ]
  },
  {
   "cell_type": "code",
   "execution_count": 40,
   "metadata": {},
   "outputs": [
    {
     "name": "stdout",
     "output_type": "stream",
     "text": [
      "fitting [0] / [100]\n"
     ]
    },
    {
     "data": {
      "text/plain": [
       "<matplotlib.legend.Legend at 0x1d1862a8208>"
      ]
     },
     "execution_count": 40,
     "metadata": {},
     "output_type": "execute_result"
    },
    {
     "data": {
      "image/png": "[encoded data removed]",
      "text/plain": [
       "<Figure size 432x216 with 2 Axes>"
      ]
     },
     "metadata": {
      "needs_background": "light"
     },
     "output_type": "display_data"
    }
   ],
   "source": [
    "# qnet = MLP(4, 2, \n",
    "#            num_neurons=[128,128], \n",
    "#            out_act='ReLU')\n",
    "# state =4차원 action 2차원\n",
    "qnet = MLP(4, 2, num_neurons=[128])\n",
    "qnet_target = MLP(4, 2, num_neurons=[128])\n",
    "\n",
    "#오프라인데이터셋에 대해 탐색한 explore을 저장하지는 않기때문에 0으로 설정하고 online tuning할때 올려서 epslilon 설정\n",
    "epsilon = float(0.0)\n",
    "gamma = 0.9\n",
    "lr = 0.001\n",
    "action_dim = 1\n",
    "\n",
    "# q_net target을 어찌설정할지 모르겠음\n",
    "new_dqn_agent = DQN(state_dim=qnet,action_dim=action_dim,qnet=qnet,qnet_target=qnet_target,lr=lr,epsilon=epsilon,gamma=gamma,)\n",
    "\n",
    "batch_size = 1024\n",
    "n_updates = 100\n",
    "fit_device = 'cuda' if torch.cuda.is_available() else 'cpu'\n",
    "\n",
    "new_dqn_agent.to(fit_device)\n",
    "losses = []\n",
    "for i in range(n_updates):\n",
    "    if i % 1000 == 0:\n",
    "        print(\"fitting [{}] / [{}]\".format(i, n_updates))\n",
    "    sampled_exps = memory.sample(batch_size)\n",
    "    s, a, r, ns, done = prepare_training_inputs(sampled_exps, \n",
    "                                                device=fit_device)    \n",
    "    loss = new_dqn_agent.update(s,a,r,ns,done)\n",
    "    losses.append(loss.detach())\n",
    "    \n",
    "    \n",
    "          \n",
    "new_dqn_agent.to('cpu')\n",
    "fig, axes = plt.subplots(1,2, figsize=(6,3))\n",
    "axes[0].plot(losses, label='loss')\n",
    "axes[0].legend()\n",
    "fig.tight_layout()\n",
    "\n",
    "\n",
    "num_runs = 500\n",
    "new_dqn_cum_rs = []\n",
    "for n_epi in range(num_runs):\n",
    "    s = env.reset()\n",
    "    cum_r = 0\n",
    "\n",
    "    # 몇초 버텼나\n",
    "    while True:\n",
    "        s = torch.tensor((s,), dtype=torch.float)\n",
    "        # a = int(new_dqn_agent.get_action(s).squeeze())\n",
    "        a = new_dqn_agent.get_action(s)\n",
    "        ns, r, done, info = env.step(a)\n",
    "\n",
    "        s = ns\n",
    "        cum_r += 1\n",
    "        if done:\n",
    "            new_dqn_cum_rs.append(cum_r)\n",
    "            break\n",
    "plt.hist(new_dqn_cum_rs, density=True, label='offline')\n",
    "plt.legend()"
   ]
  },
  {
   "cell_type": "code",
   "execution_count": null,
   "metadata": {},
   "outputs": [],
   "source": []
  }
 ],
 "metadata": {
  "interpreter": {
   "hash": "ce43f5afc3da1ea9c2859aca36b65d9af6136ef930ed7edf27ba0e49c79ddf9d"
  },
  "kernelspec": {
   "display_name": "Python 3.7.11 ('pro1')",
   "language": "python",
   "name": "python3"
  },
  "language_info": {
   "codemirror_mode": {
    "name": "ipython",
    "version": 3
   },
   "file_extension": ".py",
   "mimetype": "text/x-python",
   "name": "python",
   "nbconvert_exporter": "python",
   "pygments_lexer": "ipython3",
   "version": "3.7.11"
  },
  "orig_nbformat": 4
 },
 "nbformat": 4,
 "nbformat_minor": 2
}
